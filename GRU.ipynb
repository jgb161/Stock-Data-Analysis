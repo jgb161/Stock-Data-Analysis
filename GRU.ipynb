{
 "cells": [
  {
   "cell_type": "code",
   "execution_count": 1,
   "id": "92c9b196-67c3-454c-a4a0-0d4c33e32cf4",
   "metadata": {},
   "outputs": [
    {
     "name": "stdout",
     "output_type": "stream",
     "text": [
      "WARNING:tensorflow:From C:\\Users\\mattr\\anaconda3\\envs\\mc\\lib\\site-packages\\tensorflow\\python\\compat\\v2_compat.py:107: disable_resource_variables (from tensorflow.python.ops.variable_scope) is deprecated and will be removed in a future version.\n",
      "Instructions for updating:\n",
      "non-resource variables are not supported in the long term\n",
      "<module 'tensorflow.compat.v1.version' from 'C:\\\\Users\\\\mattr\\\\anaconda3\\\\envs\\\\mc\\\\lib\\\\site-packages\\\\tensorflow\\\\_api\\\\v2\\\\compat\\\\v1\\\\version\\\\__init__.py'>\n"
     ]
    }
   ],
   "source": [
    "# Import required libraries\n",
    "import tensorflow.compat.v1 as tf\n",
    "tf.disable_v2_behavior()\n",
    "print(tf.version)\n",
    "# import tensorflow as tf\n",
    "import numpy as np\n",
    "import matplotlib.pyplot as plt\n",
    "import seaborn as sns\n",
    "from sklearn.preprocessing import MinMaxScaler\n",
    "from datetime import datetime\n",
    "from datetime import timedelta\n",
    "from tqdm import tqdm\n",
    "sns.set()\n",
    "tf.compat.v1.random.set_random_seed(1234)\n",
    "import pandas as pd"
   ]
  },
  {
   "cell_type": "code",
   "execution_count": 2,
   "id": "ebcccf19-0a2d-45b9-8a29-56ce772e2121",
   "metadata": {},
   "outputs": [],
   "source": [
    "# path = Path('./tsla.csv')\n",
    "tsla_df = pd.read_csv('./tsla.csv', index_col='Date', infer_datetime_format=True, parse_dates=True)"
   ]
  },
  {
   "cell_type": "code",
   "execution_count": 3,
   "id": "ec2b6e14-1570-4032-ab11-bae24c9cb877",
   "metadata": {},
   "outputs": [
    {
     "data": {
      "text/html": [
       "<div>\n",
       "<style scoped>\n",
       "    .dataframe tbody tr th:only-of-type {\n",
       "        vertical-align: middle;\n",
       "    }\n",
       "\n",
       "    .dataframe tbody tr th {\n",
       "        vertical-align: top;\n",
       "    }\n",
       "\n",
       "    .dataframe thead th {\n",
       "        text-align: right;\n",
       "    }\n",
       "</style>\n",
       "<table border=\"1\" class=\"dataframe\">\n",
       "  <thead>\n",
       "    <tr style=\"text-align: right;\">\n",
       "      <th></th>\n",
       "      <th>Open</th>\n",
       "      <th>High</th>\n",
       "      <th>Low</th>\n",
       "      <th>Close</th>\n",
       "      <th>Volume</th>\n",
       "    </tr>\n",
       "    <tr>\n",
       "      <th>Date</th>\n",
       "      <th></th>\n",
       "      <th></th>\n",
       "      <th></th>\n",
       "      <th></th>\n",
       "      <th></th>\n",
       "    </tr>\n",
       "  </thead>\n",
       "  <tbody>\n",
       "    <tr>\n",
       "      <th>2022-04-06</th>\n",
       "      <td>1073.470</td>\n",
       "      <td>1079.0000</td>\n",
       "      <td>1027.700</td>\n",
       "      <td>1045.760</td>\n",
       "      <td>29782848</td>\n",
       "    </tr>\n",
       "    <tr>\n",
       "      <th>2022-04-05</th>\n",
       "      <td>1136.300</td>\n",
       "      <td>1152.8699</td>\n",
       "      <td>1087.300</td>\n",
       "      <td>1091.260</td>\n",
       "      <td>26691673</td>\n",
       "    </tr>\n",
       "    <tr>\n",
       "      <th>2022-04-04</th>\n",
       "      <td>1089.380</td>\n",
       "      <td>1149.9100</td>\n",
       "      <td>1072.530</td>\n",
       "      <td>1145.450</td>\n",
       "      <td>27392567</td>\n",
       "    </tr>\n",
       "    <tr>\n",
       "      <th>2022-04-01</th>\n",
       "      <td>1081.150</td>\n",
       "      <td>1094.7500</td>\n",
       "      <td>1066.640</td>\n",
       "      <td>1084.590</td>\n",
       "      <td>18087741</td>\n",
       "    </tr>\n",
       "    <tr>\n",
       "      <th>2022-03-31</th>\n",
       "      <td>1094.570</td>\n",
       "      <td>1103.1398</td>\n",
       "      <td>1076.641</td>\n",
       "      <td>1077.600</td>\n",
       "      <td>16330919</td>\n",
       "    </tr>\n",
       "    <tr>\n",
       "      <th>...</th>\n",
       "      <td>...</td>\n",
       "      <td>...</td>\n",
       "      <td>...</td>\n",
       "      <td>...</td>\n",
       "      <td>...</td>\n",
       "    </tr>\n",
       "    <tr>\n",
       "      <th>2018-03-21</th>\n",
       "      <td>62.050</td>\n",
       "      <td>64.4880</td>\n",
       "      <td>62.038</td>\n",
       "      <td>63.306</td>\n",
       "      <td>29792055</td>\n",
       "    </tr>\n",
       "    <tr>\n",
       "      <th>2018-03-20</th>\n",
       "      <td>62.974</td>\n",
       "      <td>63.2500</td>\n",
       "      <td>61.752</td>\n",
       "      <td>62.110</td>\n",
       "      <td>23821465</td>\n",
       "    </tr>\n",
       "    <tr>\n",
       "      <th>2018-03-19</th>\n",
       "      <td>63.300</td>\n",
       "      <td>64.1500</td>\n",
       "      <td>61.934</td>\n",
       "      <td>62.712</td>\n",
       "      <td>37421470</td>\n",
       "    </tr>\n",
       "    <tr>\n",
       "      <th>2018-03-16</th>\n",
       "      <td>65.192</td>\n",
       "      <td>65.4800</td>\n",
       "      <td>63.814</td>\n",
       "      <td>64.270</td>\n",
       "      <td>30586395</td>\n",
       "    </tr>\n",
       "    <tr>\n",
       "      <th>2018-03-15</th>\n",
       "      <td>65.876</td>\n",
       "      <td>66.5700</td>\n",
       "      <td>64.220</td>\n",
       "      <td>65.120</td>\n",
       "      <td>32824005</td>\n",
       "    </tr>\n",
       "  </tbody>\n",
       "</table>\n",
       "<p>1024 rows × 5 columns</p>\n",
       "</div>"
      ],
      "text/plain": [
       "                Open       High       Low     Close    Volume\n",
       "Date                                                         \n",
       "2022-04-06  1073.470  1079.0000  1027.700  1045.760  29782848\n",
       "2022-04-05  1136.300  1152.8699  1087.300  1091.260  26691673\n",
       "2022-04-04  1089.380  1149.9100  1072.530  1145.450  27392567\n",
       "2022-04-01  1081.150  1094.7500  1066.640  1084.590  18087741\n",
       "2022-03-31  1094.570  1103.1398  1076.641  1077.600  16330919\n",
       "...              ...        ...       ...       ...       ...\n",
       "2018-03-21    62.050    64.4880    62.038    63.306  29792055\n",
       "2018-03-20    62.974    63.2500    61.752    62.110  23821465\n",
       "2018-03-19    63.300    64.1500    61.934    62.712  37421470\n",
       "2018-03-16    65.192    65.4800    63.814    64.270  30586395\n",
       "2018-03-15    65.876    66.5700    64.220    65.120  32824005\n",
       "\n",
       "[1024 rows x 5 columns]"
      ]
     },
     "execution_count": 3,
     "metadata": {},
     "output_type": "execute_result"
    }
   ],
   "source": [
    "# drop empty column\n",
    "tsla_df.drop(columns=['Down', 'RSI(14)', 'Up'], inplace=True)\n",
    "# drop null values\n",
    "tsla_df.dropna(inplace=True)\n",
    "tsla_df = tsla_df.iloc[:1024]\n",
    "tsla_df"
   ]
  },
  {
   "cell_type": "code",
   "execution_count": 4,
   "id": "78a2b15c-2d95-4007-b1e8-f74df0ac06dd",
   "metadata": {},
   "outputs": [
    {
     "data": {
      "text/html": [
       "<div>\n",
       "<style scoped>\n",
       "    .dataframe tbody tr th:only-of-type {\n",
       "        vertical-align: middle;\n",
       "    }\n",
       "\n",
       "    .dataframe tbody tr th {\n",
       "        vertical-align: top;\n",
       "    }\n",
       "\n",
       "    .dataframe thead th {\n",
       "        text-align: right;\n",
       "    }\n",
       "</style>\n",
       "<table border=\"1\" class=\"dataframe\">\n",
       "  <thead>\n",
       "    <tr style=\"text-align: right;\">\n",
       "      <th></th>\n",
       "      <th>0</th>\n",
       "    </tr>\n",
       "  </thead>\n",
       "  <tbody>\n",
       "    <tr>\n",
       "      <th>0</th>\n",
       "      <td>0.845785</td>\n",
       "    </tr>\n",
       "    <tr>\n",
       "      <th>1</th>\n",
       "      <td>0.883889</td>\n",
       "    </tr>\n",
       "    <tr>\n",
       "      <th>2</th>\n",
       "      <td>0.929270</td>\n",
       "    </tr>\n",
       "    <tr>\n",
       "      <th>3</th>\n",
       "      <td>0.878303</td>\n",
       "    </tr>\n",
       "    <tr>\n",
       "      <th>4</th>\n",
       "      <td>0.872449</td>\n",
       "    </tr>\n",
       "  </tbody>\n",
       "</table>\n",
       "</div>"
      ],
      "text/plain": [
       "          0\n",
       "0  0.845785\n",
       "1  0.883889\n",
       "2  0.929270\n",
       "3  0.878303\n",
       "4  0.872449"
      ]
     },
     "execution_count": 4,
     "metadata": {},
     "output_type": "execute_result"
    }
   ],
   "source": [
    "minmax = MinMaxScaler().fit(tsla_df.iloc[:, 3:4].astype('float32')) # Close index\n",
    "df_log = minmax.transform(tsla_df.iloc[:, 3:4].astype('float32')) # Close index\n",
    "df_log = pd.DataFrame(df_log)\n",
    "df_log.head()"
   ]
  },
  {
   "cell_type": "code",
   "execution_count": 5,
   "id": "6cac2214-0e85-4fbb-8c45-b039779b419d",
   "metadata": {},
   "outputs": [
    {
     "data": {
      "text/plain": [
       "((1024, 5), (994, 1), (30, 1))"
      ]
     },
     "execution_count": 5,
     "metadata": {},
     "output_type": "execute_result"
    }
   ],
   "source": [
    "test_size = 30\n",
    "simulation_size = 10\n",
    "\n",
    "df_train = df_log.iloc[:-test_size]\n",
    "df_test = df_log.iloc[-test_size:]\n",
    "tsla_df.shape, df_train.shape, df_test.shape"
   ]
  },
  {
   "cell_type": "code",
   "execution_count": 6,
   "id": "dba90468-1da8-492a-8238-f6258001284c",
   "metadata": {},
   "outputs": [],
   "source": [
    "class Model:\n",
    "    def __init__(\n",
    "        self,\n",
    "        learning_rate,\n",
    "        num_layers,\n",
    "        size,\n",
    "        size_layer,\n",
    "        output_size,\n",
    "        forget_bias = 0.1,\n",
    "    ):\n",
    "        def lstm_cell(size_layer):\n",
    "            return tf.nn.rnn_cell.GRUCell(size_layer)\n",
    "\n",
    "        rnn_cells = tf.nn.rnn_cell.MultiRNNCell(\n",
    "            [lstm_cell(size_layer) for _ in range(num_layers)],\n",
    "            state_is_tuple = False,\n",
    "        )\n",
    "        self.X = tf.placeholder(tf.float32, (None, None, size))\n",
    "        self.Y = tf.placeholder(tf.float32, (None, output_size))\n",
    "        drop = tf.nn.rnn_cell.DropoutWrapper(\n",
    "            rnn_cells, output_keep_prob = forget_bias\n",
    "        )\n",
    "        self.hidden_layer = tf.placeholder(\n",
    "            tf.float32, (None, num_layers * size_layer)\n",
    "        )\n",
    "        self.outputs, self.last_state = tf.nn.dynamic_rnn(\n",
    "            drop, self.X, initial_state = self.hidden_layer, dtype = tf.float32\n",
    "        )\n",
    "        self.logits = tf.layers.dense(self.outputs[-1], output_size)\n",
    "        self.cost = tf.reduce_mean(tf.square(self.Y - self.logits))\n",
    "        self.optimizer = tf.train.AdamOptimizer(learning_rate).minimize(\n",
    "            self.cost\n",
    "        )\n",
    "        \n",
    "def calculate_accuracy(real, predict):\n",
    "    real = np.array(real) + 1\n",
    "    predict = np.array(predict) + 1\n",
    "    percentage = 1 - np.sqrt(np.mean(np.square((real - predict) / real)))\n",
    "    return percentage * 100\n",
    "\n",
    "def anchor(signal, weight):\n",
    "    buffer = []\n",
    "    last = signal[0]\n",
    "    for i in signal:\n",
    "        smoothed_val = last * weight + (1 - weight) * i\n",
    "        buffer.append(smoothed_val)\n",
    "        last = smoothed_val\n",
    "    return buffer"
   ]
  },
  {
   "cell_type": "code",
   "execution_count": 7,
   "id": "e2cfb0da-5b6a-4c87-ac7f-5860d7210d48",
   "metadata": {},
   "outputs": [],
   "source": [
    "num_layers = 1\n",
    "size_layer = 128\n",
    "timestamp = 5\n",
    "epoch = 300\n",
    "dropout_rate = 0.8\n",
    "future_day = test_size\n",
    "learning_rate = 0.01"
   ]
  },
  {
   "cell_type": "code",
   "execution_count": 8,
   "id": "ffb5afc4-eac0-4cd8-a59c-853622883b3f",
   "metadata": {},
   "outputs": [],
   "source": [
    "def forecast():\n",
    "    tf.compat.v1.reset_default_graph()\n",
    "    modelnn = Model(\n",
    "        learning_rate, num_layers, df_log.shape[1], size_layer, df_log.shape[1], dropout_rate\n",
    "    )\n",
    "    sess = tf.InteractiveSession()\n",
    "    sess.run(tf.global_variables_initializer())\n",
    "    date_ori = pd.to_datetime(tsla_df.iloc[:, 0]).tolist()\n",
    "\n",
    "    pbar = tqdm(range(epoch), desc = 'train loop')\n",
    "    for i in pbar:\n",
    "        init_value = np.zeros((1, num_layers * size_layer))\n",
    "        total_loss, total_acc = [], []\n",
    "        for k in range(0, df_train.shape[0] - 1, timestamp):\n",
    "            index = min(k + timestamp, df_train.shape[0] - 1)\n",
    "            batch_x = np.expand_dims(\n",
    "                df_train.iloc[k : index, :].values, axis = 0\n",
    "            )\n",
    "            batch_y = df_train.iloc[k + 1 : index + 1, :].values\n",
    "            logits, last_state, _, loss = sess.run(\n",
    "                [modelnn.logits, modelnn.last_state, modelnn.optimizer, modelnn.cost],\n",
    "                feed_dict = {\n",
    "                    modelnn.X: batch_x,\n",
    "                    modelnn.Y: batch_y,\n",
    "                    modelnn.hidden_layer: init_value,\n",
    "                },\n",
    "            )        \n",
    "            init_value = last_state\n",
    "            total_loss.append(loss)\n",
    "            total_acc.append(calculate_accuracy(batch_y[:, 0], logits[:, 0]))\n",
    "        pbar.set_postfix(cost = np.mean(total_loss), acc = np.mean(total_acc))\n",
    "    \n",
    "    future_day = test_size\n",
    "\n",
    "    output_predict = np.zeros((df_train.shape[0] + future_day, df_train.shape[1]))\n",
    "    output_predict[0] = df_train.iloc[0]\n",
    "    upper_b = (df_train.shape[0] // timestamp) * timestamp\n",
    "    init_value = np.zeros((1, num_layers * size_layer))\n",
    "\n",
    "    for k in range(0, (df_train.shape[0] // timestamp) * timestamp, timestamp):\n",
    "        out_logits, last_state = sess.run(\n",
    "            [modelnn.logits, modelnn.last_state],\n",
    "            feed_dict = {\n",
    "                modelnn.X: np.expand_dims(\n",
    "                    df_train.iloc[k : k + timestamp], axis = 0\n",
    "                ),\n",
    "                modelnn.hidden_layer: init_value,\n",
    "            },\n",
    "        )\n",
    "        init_value = last_state\n",
    "        output_predict[k + 1 : k + timestamp + 1] = out_logits\n",
    "\n",
    "    if upper_b != df_train.shape[0]:\n",
    "        out_logits, last_state = sess.run(\n",
    "            [modelnn.logits, modelnn.last_state],\n",
    "            feed_dict = {\n",
    "                modelnn.X: np.expand_dims(df_train.iloc[upper_b:], axis = 0),\n",
    "                modelnn.hidden_layer: init_value,\n",
    "            },\n",
    "        )\n",
    "        output_predict[upper_b + 1 : df_train.shape[0] + 1] = out_logits\n",
    "        future_day -= 1\n",
    "        date_ori.append(date_ori[-1] + timedelta(days = 1))\n",
    "\n",
    "    init_value = last_state\n",
    "    \n",
    "    for i in range(future_day):\n",
    "        o = output_predict[-future_day - timestamp + i:-future_day + i]\n",
    "        out_logits, last_state = sess.run(\n",
    "            [modelnn.logits, modelnn.last_state],\n",
    "            feed_dict = {\n",
    "                modelnn.X: np.expand_dims(o, axis = 0),\n",
    "                modelnn.hidden_layer: init_value,\n",
    "            },\n",
    "        )\n",
    "        init_value = last_state\n",
    "        output_predict[-future_day + i] = out_logits[-1]\n",
    "        date_ori.append(date_ori[-1] + timedelta(days = 1))\n",
    "    \n",
    "    output_predict = minmax.inverse_transform(output_predict)\n",
    "    deep_future = anchor(output_predict[:, 0], 0.3)\n",
    "    \n",
    "    return deep_future[-test_size:]"
   ]
  },
  {
   "cell_type": "code",
   "execution_count": 9,
   "id": "0053ece5-e61c-4c43-8500-f8d429cf3cab",
   "metadata": {},
   "outputs": [
    {
     "name": "stdout",
     "output_type": "stream",
     "text": [
      "simulation 1\n",
      "WARNING:tensorflow:`tf.nn.rnn_cell.MultiRNNCell` is deprecated. This class is equivalent as `tf.keras.layers.StackedRNNCells`, and will be replaced by that in Tensorflow 2.0.\n",
      "WARNING:tensorflow:From C:\\Users\\mattr\\AppData\\Local\\Temp\\ipykernel_14232\\4156939800.py:26: dynamic_rnn (from tensorflow.python.ops.rnn) is deprecated and will be removed in a future version.\n",
      "Instructions for updating:\n",
      "Please use `keras.layers.RNN(cell)`, which is equivalent to this API\n",
      "WARNING:tensorflow:From C:\\Users\\mattr\\anaconda3\\envs\\mc\\lib\\site-packages\\keras\\layers\\legacy_rnn\\rnn_cell_impl.py:579: calling Constant.__init__ (from tensorflow.python.ops.init_ops) with dtype is deprecated and will be removed in a future version.\n",
      "Instructions for updating:\n",
      "Call initializer instance with the dtype argument instead of passing it to the constructor\n",
      "WARNING:tensorflow:From C:\\Users\\mattr\\anaconda3\\envs\\mc\\lib\\site-packages\\keras\\layers\\legacy_rnn\\rnn_cell_impl.py:589: calling Zeros.__init__ (from tensorflow.python.ops.init_ops) with dtype is deprecated and will be removed in a future version.\n",
      "Instructions for updating:\n",
      "Call initializer instance with the dtype argument instead of passing it to the constructor\n"
     ]
    },
    {
     "name": "stderr",
     "output_type": "stream",
     "text": [
      "C:\\Users\\mattr\\AppData\\Local\\Temp\\ipykernel_14232\\4156939800.py:12: UserWarning: `tf.nn.rnn_cell.GRUCell` is deprecated and will be removed in a future version. This class is equivalent as `tf.keras.layers.GRUCell`, and will be replaced by that in Tensorflow 2.0.\n",
      "  return tf.nn.rnn_cell.GRUCell(size_layer)\n",
      "C:\\Users\\mattr\\anaconda3\\envs\\mc\\lib\\site-packages\\keras\\layers\\legacy_rnn\\rnn_cell_impl.py:570: UserWarning: `layer.add_variable` is deprecated and will be removed in a future version. Please use `layer.add_weight` method instead.\n",
      "  self._gate_kernel = self.add_variable(\n",
      "C:\\Users\\mattr\\anaconda3\\envs\\mc\\lib\\site-packages\\keras\\layers\\legacy_rnn\\rnn_cell_impl.py:574: UserWarning: `layer.add_variable` is deprecated and will be removed in a future version. Please use `layer.add_weight` method instead.\n",
      "  self._gate_bias = self.add_variable(\n",
      "C:\\Users\\mattr\\anaconda3\\envs\\mc\\lib\\site-packages\\keras\\layers\\legacy_rnn\\rnn_cell_impl.py:580: UserWarning: `layer.add_variable` is deprecated and will be removed in a future version. Please use `layer.add_weight` method instead.\n",
      "  self._candidate_kernel = self.add_variable(\n",
      "C:\\Users\\mattr\\anaconda3\\envs\\mc\\lib\\site-packages\\keras\\layers\\legacy_rnn\\rnn_cell_impl.py:584: UserWarning: `layer.add_variable` is deprecated and will be removed in a future version. Please use `layer.add_weight` method instead.\n",
      "  self._candidate_bias = self.add_variable(\n",
      "C:\\Users\\mattr\\AppData\\Local\\Temp\\ipykernel_14232\\4156939800.py:29: UserWarning: `tf.layers.dense` is deprecated and will be removed in a future version. Please use `tf.keras.layers.Dense` instead.\n",
      "  self.logits = tf.layers.dense(self.outputs[-1], output_size)\n",
      "C:\\Users\\mattr\\anaconda3\\envs\\mc\\lib\\site-packages\\keras\\legacy_tf_layers\\core.py:261: UserWarning: `layer.apply` is deprecated and will be removed in a future version. Please use `layer.__call__` method instead.\n",
      "  return layer.apply(inputs)\n",
      "train loop: 100%|████████████████████████████████████████████| 300/300 [02:02<00:00,  2.44it/s, acc=96.6, cost=0.00255]"
     ]
    },
    {
     "name": "stdout",
     "output_type": "stream",
     "text": [
      "simulation 2\n",
      "WARNING:tensorflow:`tf.nn.rnn_cell.MultiRNNCell` is deprecated. This class is equivalent as `tf.keras.layers.StackedRNNCells`, and will be replaced by that in Tensorflow 2.0.\n"
     ]
    },
    {
     "name": "stderr",
     "output_type": "stream",
     "text": [
      "\n",
      "C:\\Users\\mattr\\AppData\\Local\\Temp\\ipykernel_14232\\4156939800.py:12: UserWarning: `tf.nn.rnn_cell.GRUCell` is deprecated and will be removed in a future version. This class is equivalent as `tf.keras.layers.GRUCell`, and will be replaced by that in Tensorflow 2.0.\n",
      "  return tf.nn.rnn_cell.GRUCell(size_layer)\n",
      "C:\\Users\\mattr\\anaconda3\\envs\\mc\\lib\\site-packages\\keras\\layers\\legacy_rnn\\rnn_cell_impl.py:570: UserWarning: `layer.add_variable` is deprecated and will be removed in a future version. Please use `layer.add_weight` method instead.\n",
      "  self._gate_kernel = self.add_variable(\n",
      "C:\\Users\\mattr\\anaconda3\\envs\\mc\\lib\\site-packages\\keras\\layers\\legacy_rnn\\rnn_cell_impl.py:574: UserWarning: `layer.add_variable` is deprecated and will be removed in a future version. Please use `layer.add_weight` method instead.\n",
      "  self._gate_bias = self.add_variable(\n",
      "C:\\Users\\mattr\\anaconda3\\envs\\mc\\lib\\site-packages\\keras\\layers\\legacy_rnn\\rnn_cell_impl.py:580: UserWarning: `layer.add_variable` is deprecated and will be removed in a future version. Please use `layer.add_weight` method instead.\n",
      "  self._candidate_kernel = self.add_variable(\n",
      "C:\\Users\\mattr\\anaconda3\\envs\\mc\\lib\\site-packages\\keras\\layers\\legacy_rnn\\rnn_cell_impl.py:584: UserWarning: `layer.add_variable` is deprecated and will be removed in a future version. Please use `layer.add_weight` method instead.\n",
      "  self._candidate_bias = self.add_variable(\n",
      "C:\\Users\\mattr\\AppData\\Local\\Temp\\ipykernel_14232\\4156939800.py:29: UserWarning: `tf.layers.dense` is deprecated and will be removed in a future version. Please use `tf.keras.layers.Dense` instead.\n",
      "  self.logits = tf.layers.dense(self.outputs[-1], output_size)\n",
      "C:\\Users\\mattr\\anaconda3\\envs\\mc\\lib\\site-packages\\keras\\legacy_tf_layers\\core.py:261: UserWarning: `layer.apply` is deprecated and will be removed in a future version. Please use `layer.__call__` method instead.\n",
      "  return layer.apply(inputs)\n",
      "C:\\Users\\mattr\\anaconda3\\envs\\mc\\lib\\site-packages\\tensorflow\\python\\client\\session.py:1768: UserWarning: An interactive session is already active. This can cause out-of-memory errors in some cases. You must explicitly call `InteractiveSession.close()` to release resources held by the other session(s).\n",
      "  warnings.warn('An interactive session is already active. This can '\n",
      "train loop: 100%|████████████████████████████████████████████| 300/300 [02:04<00:00,  2.40it/s, acc=95.7, cost=0.00411]"
     ]
    },
    {
     "name": "stdout",
     "output_type": "stream",
     "text": [
      "simulation 3\n",
      "WARNING:tensorflow:`tf.nn.rnn_cell.MultiRNNCell` is deprecated. This class is equivalent as `tf.keras.layers.StackedRNNCells`, and will be replaced by that in Tensorflow 2.0.\n"
     ]
    },
    {
     "name": "stderr",
     "output_type": "stream",
     "text": [
      "\n",
      "C:\\Users\\mattr\\AppData\\Local\\Temp\\ipykernel_14232\\4156939800.py:12: UserWarning: `tf.nn.rnn_cell.GRUCell` is deprecated and will be removed in a future version. This class is equivalent as `tf.keras.layers.GRUCell`, and will be replaced by that in Tensorflow 2.0.\n",
      "  return tf.nn.rnn_cell.GRUCell(size_layer)\n",
      "C:\\Users\\mattr\\anaconda3\\envs\\mc\\lib\\site-packages\\keras\\layers\\legacy_rnn\\rnn_cell_impl.py:570: UserWarning: `layer.add_variable` is deprecated and will be removed in a future version. Please use `layer.add_weight` method instead.\n",
      "  self._gate_kernel = self.add_variable(\n",
      "C:\\Users\\mattr\\anaconda3\\envs\\mc\\lib\\site-packages\\keras\\layers\\legacy_rnn\\rnn_cell_impl.py:574: UserWarning: `layer.add_variable` is deprecated and will be removed in a future version. Please use `layer.add_weight` method instead.\n",
      "  self._gate_bias = self.add_variable(\n",
      "C:\\Users\\mattr\\anaconda3\\envs\\mc\\lib\\site-packages\\keras\\layers\\legacy_rnn\\rnn_cell_impl.py:580: UserWarning: `layer.add_variable` is deprecated and will be removed in a future version. Please use `layer.add_weight` method instead.\n",
      "  self._candidate_kernel = self.add_variable(\n",
      "C:\\Users\\mattr\\anaconda3\\envs\\mc\\lib\\site-packages\\keras\\layers\\legacy_rnn\\rnn_cell_impl.py:584: UserWarning: `layer.add_variable` is deprecated and will be removed in a future version. Please use `layer.add_weight` method instead.\n",
      "  self._candidate_bias = self.add_variable(\n",
      "C:\\Users\\mattr\\AppData\\Local\\Temp\\ipykernel_14232\\4156939800.py:29: UserWarning: `tf.layers.dense` is deprecated and will be removed in a future version. Please use `tf.keras.layers.Dense` instead.\n",
      "  self.logits = tf.layers.dense(self.outputs[-1], output_size)\n",
      "C:\\Users\\mattr\\anaconda3\\envs\\mc\\lib\\site-packages\\keras\\legacy_tf_layers\\core.py:261: UserWarning: `layer.apply` is deprecated and will be removed in a future version. Please use `layer.__call__` method instead.\n",
      "  return layer.apply(inputs)\n",
      "C:\\Users\\mattr\\anaconda3\\envs\\mc\\lib\\site-packages\\tensorflow\\python\\client\\session.py:1768: UserWarning: An interactive session is already active. This can cause out-of-memory errors in some cases. You must explicitly call `InteractiveSession.close()` to release resources held by the other session(s).\n",
      "  warnings.warn('An interactive session is already active. This can '\n",
      "train loop: 100%|█████████████████████████████████████████████| 300/300 [02:08<00:00,  2.33it/s, acc=97.2, cost=0.0018]"
     ]
    },
    {
     "name": "stdout",
     "output_type": "stream",
     "text": [
      "simulation 4\n",
      "WARNING:tensorflow:`tf.nn.rnn_cell.MultiRNNCell` is deprecated. This class is equivalent as `tf.keras.layers.StackedRNNCells`, and will be replaced by that in Tensorflow 2.0.\n"
     ]
    },
    {
     "name": "stderr",
     "output_type": "stream",
     "text": [
      "\n",
      "C:\\Users\\mattr\\AppData\\Local\\Temp\\ipykernel_14232\\4156939800.py:12: UserWarning: `tf.nn.rnn_cell.GRUCell` is deprecated and will be removed in a future version. This class is equivalent as `tf.keras.layers.GRUCell`, and will be replaced by that in Tensorflow 2.0.\n",
      "  return tf.nn.rnn_cell.GRUCell(size_layer)\n",
      "C:\\Users\\mattr\\anaconda3\\envs\\mc\\lib\\site-packages\\keras\\layers\\legacy_rnn\\rnn_cell_impl.py:570: UserWarning: `layer.add_variable` is deprecated and will be removed in a future version. Please use `layer.add_weight` method instead.\n",
      "  self._gate_kernel = self.add_variable(\n",
      "C:\\Users\\mattr\\anaconda3\\envs\\mc\\lib\\site-packages\\keras\\layers\\legacy_rnn\\rnn_cell_impl.py:574: UserWarning: `layer.add_variable` is deprecated and will be removed in a future version. Please use `layer.add_weight` method instead.\n",
      "  self._gate_bias = self.add_variable(\n",
      "C:\\Users\\mattr\\anaconda3\\envs\\mc\\lib\\site-packages\\keras\\layers\\legacy_rnn\\rnn_cell_impl.py:580: UserWarning: `layer.add_variable` is deprecated and will be removed in a future version. Please use `layer.add_weight` method instead.\n",
      "  self._candidate_kernel = self.add_variable(\n",
      "C:\\Users\\mattr\\anaconda3\\envs\\mc\\lib\\site-packages\\keras\\layers\\legacy_rnn\\rnn_cell_impl.py:584: UserWarning: `layer.add_variable` is deprecated and will be removed in a future version. Please use `layer.add_weight` method instead.\n",
      "  self._candidate_bias = self.add_variable(\n",
      "C:\\Users\\mattr\\AppData\\Local\\Temp\\ipykernel_14232\\4156939800.py:29: UserWarning: `tf.layers.dense` is deprecated and will be removed in a future version. Please use `tf.keras.layers.Dense` instead.\n",
      "  self.logits = tf.layers.dense(self.outputs[-1], output_size)\n",
      "C:\\Users\\mattr\\anaconda3\\envs\\mc\\lib\\site-packages\\keras\\legacy_tf_layers\\core.py:261: UserWarning: `layer.apply` is deprecated and will be removed in a future version. Please use `layer.__call__` method instead.\n",
      "  return layer.apply(inputs)\n",
      "C:\\Users\\mattr\\anaconda3\\envs\\mc\\lib\\site-packages\\tensorflow\\python\\client\\session.py:1768: UserWarning: An interactive session is already active. This can cause out-of-memory errors in some cases. You must explicitly call `InteractiveSession.close()` to release resources held by the other session(s).\n",
      "  warnings.warn('An interactive session is already active. This can '\n",
      "train loop: 100%|████████████████████████████████████████████| 300/300 [02:00<00:00,  2.49it/s, acc=97.1, cost=0.00217]"
     ]
    },
    {
     "name": "stdout",
     "output_type": "stream",
     "text": [
      "simulation 5\n",
      "WARNING:tensorflow:`tf.nn.rnn_cell.MultiRNNCell` is deprecated. This class is equivalent as `tf.keras.layers.StackedRNNCells`, and will be replaced by that in Tensorflow 2.0.\n"
     ]
    },
    {
     "name": "stderr",
     "output_type": "stream",
     "text": [
      "\n",
      "C:\\Users\\mattr\\AppData\\Local\\Temp\\ipykernel_14232\\4156939800.py:12: UserWarning: `tf.nn.rnn_cell.GRUCell` is deprecated and will be removed in a future version. This class is equivalent as `tf.keras.layers.GRUCell`, and will be replaced by that in Tensorflow 2.0.\n",
      "  return tf.nn.rnn_cell.GRUCell(size_layer)\n",
      "C:\\Users\\mattr\\anaconda3\\envs\\mc\\lib\\site-packages\\keras\\layers\\legacy_rnn\\rnn_cell_impl.py:570: UserWarning: `layer.add_variable` is deprecated and will be removed in a future version. Please use `layer.add_weight` method instead.\n",
      "  self._gate_kernel = self.add_variable(\n",
      "C:\\Users\\mattr\\anaconda3\\envs\\mc\\lib\\site-packages\\keras\\layers\\legacy_rnn\\rnn_cell_impl.py:574: UserWarning: `layer.add_variable` is deprecated and will be removed in a future version. Please use `layer.add_weight` method instead.\n",
      "  self._gate_bias = self.add_variable(\n",
      "C:\\Users\\mattr\\anaconda3\\envs\\mc\\lib\\site-packages\\keras\\layers\\legacy_rnn\\rnn_cell_impl.py:580: UserWarning: `layer.add_variable` is deprecated and will be removed in a future version. Please use `layer.add_weight` method instead.\n",
      "  self._candidate_kernel = self.add_variable(\n",
      "C:\\Users\\mattr\\anaconda3\\envs\\mc\\lib\\site-packages\\keras\\layers\\legacy_rnn\\rnn_cell_impl.py:584: UserWarning: `layer.add_variable` is deprecated and will be removed in a future version. Please use `layer.add_weight` method instead.\n",
      "  self._candidate_bias = self.add_variable(\n",
      "C:\\Users\\mattr\\AppData\\Local\\Temp\\ipykernel_14232\\4156939800.py:29: UserWarning: `tf.layers.dense` is deprecated and will be removed in a future version. Please use `tf.keras.layers.Dense` instead.\n",
      "  self.logits = tf.layers.dense(self.outputs[-1], output_size)\n",
      "C:\\Users\\mattr\\anaconda3\\envs\\mc\\lib\\site-packages\\keras\\legacy_tf_layers\\core.py:261: UserWarning: `layer.apply` is deprecated and will be removed in a future version. Please use `layer.__call__` method instead.\n",
      "  return layer.apply(inputs)\n",
      "C:\\Users\\mattr\\anaconda3\\envs\\mc\\lib\\site-packages\\tensorflow\\python\\client\\session.py:1768: UserWarning: An interactive session is already active. This can cause out-of-memory errors in some cases. You must explicitly call `InteractiveSession.close()` to release resources held by the other session(s).\n",
      "  warnings.warn('An interactive session is already active. This can '\n",
      "train loop: 100%|█████████████████████████████████████████████| 300/300 [02:04<00:00,  2.42it/s, acc=97.4, cost=0.0015]"
     ]
    },
    {
     "name": "stdout",
     "output_type": "stream",
     "text": [
      "simulation 6\n",
      "WARNING:tensorflow:`tf.nn.rnn_cell.MultiRNNCell` is deprecated. This class is equivalent as `tf.keras.layers.StackedRNNCells`, and will be replaced by that in Tensorflow 2.0.\n"
     ]
    },
    {
     "name": "stderr",
     "output_type": "stream",
     "text": [
      "\n",
      "C:\\Users\\mattr\\AppData\\Local\\Temp\\ipykernel_14232\\4156939800.py:12: UserWarning: `tf.nn.rnn_cell.GRUCell` is deprecated and will be removed in a future version. This class is equivalent as `tf.keras.layers.GRUCell`, and will be replaced by that in Tensorflow 2.0.\n",
      "  return tf.nn.rnn_cell.GRUCell(size_layer)\n",
      "C:\\Users\\mattr\\anaconda3\\envs\\mc\\lib\\site-packages\\keras\\layers\\legacy_rnn\\rnn_cell_impl.py:570: UserWarning: `layer.add_variable` is deprecated and will be removed in a future version. Please use `layer.add_weight` method instead.\n",
      "  self._gate_kernel = self.add_variable(\n",
      "C:\\Users\\mattr\\anaconda3\\envs\\mc\\lib\\site-packages\\keras\\layers\\legacy_rnn\\rnn_cell_impl.py:574: UserWarning: `layer.add_variable` is deprecated and will be removed in a future version. Please use `layer.add_weight` method instead.\n",
      "  self._gate_bias = self.add_variable(\n",
      "C:\\Users\\mattr\\anaconda3\\envs\\mc\\lib\\site-packages\\keras\\layers\\legacy_rnn\\rnn_cell_impl.py:580: UserWarning: `layer.add_variable` is deprecated and will be removed in a future version. Please use `layer.add_weight` method instead.\n",
      "  self._candidate_kernel = self.add_variable(\n",
      "C:\\Users\\mattr\\anaconda3\\envs\\mc\\lib\\site-packages\\keras\\layers\\legacy_rnn\\rnn_cell_impl.py:584: UserWarning: `layer.add_variable` is deprecated and will be removed in a future version. Please use `layer.add_weight` method instead.\n",
      "  self._candidate_bias = self.add_variable(\n",
      "C:\\Users\\mattr\\AppData\\Local\\Temp\\ipykernel_14232\\4156939800.py:29: UserWarning: `tf.layers.dense` is deprecated and will be removed in a future version. Please use `tf.keras.layers.Dense` instead.\n",
      "  self.logits = tf.layers.dense(self.outputs[-1], output_size)\n",
      "C:\\Users\\mattr\\anaconda3\\envs\\mc\\lib\\site-packages\\keras\\legacy_tf_layers\\core.py:261: UserWarning: `layer.apply` is deprecated and will be removed in a future version. Please use `layer.__call__` method instead.\n",
      "  return layer.apply(inputs)\n",
      "C:\\Users\\mattr\\anaconda3\\envs\\mc\\lib\\site-packages\\tensorflow\\python\\client\\session.py:1768: UserWarning: An interactive session is already active. This can cause out-of-memory errors in some cases. You must explicitly call `InteractiveSession.close()` to release resources held by the other session(s).\n",
      "  warnings.warn('An interactive session is already active. This can '\n",
      "train loop: 100%|████████████████████████████████████████████| 300/300 [02:00<00:00,  2.49it/s, acc=94.6, cost=0.00853]"
     ]
    },
    {
     "name": "stdout",
     "output_type": "stream",
     "text": [
      "simulation 7\n",
      "WARNING:tensorflow:`tf.nn.rnn_cell.MultiRNNCell` is deprecated. This class is equivalent as `tf.keras.layers.StackedRNNCells`, and will be replaced by that in Tensorflow 2.0.\n"
     ]
    },
    {
     "name": "stderr",
     "output_type": "stream",
     "text": [
      "\n",
      "C:\\Users\\mattr\\AppData\\Local\\Temp\\ipykernel_14232\\4156939800.py:12: UserWarning: `tf.nn.rnn_cell.GRUCell` is deprecated and will be removed in a future version. This class is equivalent as `tf.keras.layers.GRUCell`, and will be replaced by that in Tensorflow 2.0.\n",
      "  return tf.nn.rnn_cell.GRUCell(size_layer)\n",
      "C:\\Users\\mattr\\anaconda3\\envs\\mc\\lib\\site-packages\\keras\\layers\\legacy_rnn\\rnn_cell_impl.py:570: UserWarning: `layer.add_variable` is deprecated and will be removed in a future version. Please use `layer.add_weight` method instead.\n",
      "  self._gate_kernel = self.add_variable(\n",
      "C:\\Users\\mattr\\anaconda3\\envs\\mc\\lib\\site-packages\\keras\\layers\\legacy_rnn\\rnn_cell_impl.py:574: UserWarning: `layer.add_variable` is deprecated and will be removed in a future version. Please use `layer.add_weight` method instead.\n",
      "  self._gate_bias = self.add_variable(\n",
      "C:\\Users\\mattr\\anaconda3\\envs\\mc\\lib\\site-packages\\keras\\layers\\legacy_rnn\\rnn_cell_impl.py:580: UserWarning: `layer.add_variable` is deprecated and will be removed in a future version. Please use `layer.add_weight` method instead.\n",
      "  self._candidate_kernel = self.add_variable(\n",
      "C:\\Users\\mattr\\anaconda3\\envs\\mc\\lib\\site-packages\\keras\\layers\\legacy_rnn\\rnn_cell_impl.py:584: UserWarning: `layer.add_variable` is deprecated and will be removed in a future version. Please use `layer.add_weight` method instead.\n",
      "  self._candidate_bias = self.add_variable(\n",
      "C:\\Users\\mattr\\AppData\\Local\\Temp\\ipykernel_14232\\4156939800.py:29: UserWarning: `tf.layers.dense` is deprecated and will be removed in a future version. Please use `tf.keras.layers.Dense` instead.\n",
      "  self.logits = tf.layers.dense(self.outputs[-1], output_size)\n",
      "C:\\Users\\mattr\\anaconda3\\envs\\mc\\lib\\site-packages\\keras\\legacy_tf_layers\\core.py:261: UserWarning: `layer.apply` is deprecated and will be removed in a future version. Please use `layer.__call__` method instead.\n",
      "  return layer.apply(inputs)\n",
      "C:\\Users\\mattr\\anaconda3\\envs\\mc\\lib\\site-packages\\tensorflow\\python\\client\\session.py:1768: UserWarning: An interactive session is already active. This can cause out-of-memory errors in some cases. You must explicitly call `InteractiveSession.close()` to release resources held by the other session(s).\n",
      "  warnings.warn('An interactive session is already active. This can '\n",
      "train loop: 100%|████████████████████████████████████████████| 300/300 [01:58<00:00,  2.52it/s, acc=97.2, cost=0.00179]"
     ]
    },
    {
     "name": "stdout",
     "output_type": "stream",
     "text": [
      "simulation 8\n",
      "WARNING:tensorflow:`tf.nn.rnn_cell.MultiRNNCell` is deprecated. This class is equivalent as `tf.keras.layers.StackedRNNCells`, and will be replaced by that in Tensorflow 2.0.\n"
     ]
    },
    {
     "name": "stderr",
     "output_type": "stream",
     "text": [
      "\n",
      "C:\\Users\\mattr\\AppData\\Local\\Temp\\ipykernel_14232\\4156939800.py:12: UserWarning: `tf.nn.rnn_cell.GRUCell` is deprecated and will be removed in a future version. This class is equivalent as `tf.keras.layers.GRUCell`, and will be replaced by that in Tensorflow 2.0.\n",
      "  return tf.nn.rnn_cell.GRUCell(size_layer)\n",
      "C:\\Users\\mattr\\anaconda3\\envs\\mc\\lib\\site-packages\\keras\\layers\\legacy_rnn\\rnn_cell_impl.py:570: UserWarning: `layer.add_variable` is deprecated and will be removed in a future version. Please use `layer.add_weight` method instead.\n",
      "  self._gate_kernel = self.add_variable(\n",
      "C:\\Users\\mattr\\anaconda3\\envs\\mc\\lib\\site-packages\\keras\\layers\\legacy_rnn\\rnn_cell_impl.py:574: UserWarning: `layer.add_variable` is deprecated and will be removed in a future version. Please use `layer.add_weight` method instead.\n",
      "  self._gate_bias = self.add_variable(\n",
      "C:\\Users\\mattr\\anaconda3\\envs\\mc\\lib\\site-packages\\keras\\layers\\legacy_rnn\\rnn_cell_impl.py:580: UserWarning: `layer.add_variable` is deprecated and will be removed in a future version. Please use `layer.add_weight` method instead.\n",
      "  self._candidate_kernel = self.add_variable(\n",
      "C:\\Users\\mattr\\anaconda3\\envs\\mc\\lib\\site-packages\\keras\\layers\\legacy_rnn\\rnn_cell_impl.py:584: UserWarning: `layer.add_variable` is deprecated and will be removed in a future version. Please use `layer.add_weight` method instead.\n",
      "  self._candidate_bias = self.add_variable(\n",
      "C:\\Users\\mattr\\AppData\\Local\\Temp\\ipykernel_14232\\4156939800.py:29: UserWarning: `tf.layers.dense` is deprecated and will be removed in a future version. Please use `tf.keras.layers.Dense` instead.\n",
      "  self.logits = tf.layers.dense(self.outputs[-1], output_size)\n",
      "C:\\Users\\mattr\\anaconda3\\envs\\mc\\lib\\site-packages\\keras\\legacy_tf_layers\\core.py:261: UserWarning: `layer.apply` is deprecated and will be removed in a future version. Please use `layer.__call__` method instead.\n",
      "  return layer.apply(inputs)\n",
      "C:\\Users\\mattr\\anaconda3\\envs\\mc\\lib\\site-packages\\tensorflow\\python\\client\\session.py:1768: UserWarning: An interactive session is already active. This can cause out-of-memory errors in some cases. You must explicitly call `InteractiveSession.close()` to release resources held by the other session(s).\n",
      "  warnings.warn('An interactive session is already active. This can '\n",
      "train loop: 100%|██████████████████████████████████████████████| 300/300 [02:03<00:00,  2.43it/s, acc=96.2, cost=0.003]"
     ]
    },
    {
     "name": "stdout",
     "output_type": "stream",
     "text": [
      "simulation 9\n",
      "WARNING:tensorflow:`tf.nn.rnn_cell.MultiRNNCell` is deprecated. This class is equivalent as `tf.keras.layers.StackedRNNCells`, and will be replaced by that in Tensorflow 2.0.\n"
     ]
    },
    {
     "name": "stderr",
     "output_type": "stream",
     "text": [
      "\n",
      "C:\\Users\\mattr\\AppData\\Local\\Temp\\ipykernel_14232\\4156939800.py:12: UserWarning: `tf.nn.rnn_cell.GRUCell` is deprecated and will be removed in a future version. This class is equivalent as `tf.keras.layers.GRUCell`, and will be replaced by that in Tensorflow 2.0.\n",
      "  return tf.nn.rnn_cell.GRUCell(size_layer)\n",
      "C:\\Users\\mattr\\anaconda3\\envs\\mc\\lib\\site-packages\\keras\\layers\\legacy_rnn\\rnn_cell_impl.py:570: UserWarning: `layer.add_variable` is deprecated and will be removed in a future version. Please use `layer.add_weight` method instead.\n",
      "  self._gate_kernel = self.add_variable(\n",
      "C:\\Users\\mattr\\anaconda3\\envs\\mc\\lib\\site-packages\\keras\\layers\\legacy_rnn\\rnn_cell_impl.py:574: UserWarning: `layer.add_variable` is deprecated and will be removed in a future version. Please use `layer.add_weight` method instead.\n",
      "  self._gate_bias = self.add_variable(\n",
      "C:\\Users\\mattr\\anaconda3\\envs\\mc\\lib\\site-packages\\keras\\layers\\legacy_rnn\\rnn_cell_impl.py:580: UserWarning: `layer.add_variable` is deprecated and will be removed in a future version. Please use `layer.add_weight` method instead.\n",
      "  self._candidate_kernel = self.add_variable(\n",
      "C:\\Users\\mattr\\anaconda3\\envs\\mc\\lib\\site-packages\\keras\\layers\\legacy_rnn\\rnn_cell_impl.py:584: UserWarning: `layer.add_variable` is deprecated and will be removed in a future version. Please use `layer.add_weight` method instead.\n",
      "  self._candidate_bias = self.add_variable(\n",
      "C:\\Users\\mattr\\AppData\\Local\\Temp\\ipykernel_14232\\4156939800.py:29: UserWarning: `tf.layers.dense` is deprecated and will be removed in a future version. Please use `tf.keras.layers.Dense` instead.\n",
      "  self.logits = tf.layers.dense(self.outputs[-1], output_size)\n",
      "C:\\Users\\mattr\\anaconda3\\envs\\mc\\lib\\site-packages\\keras\\legacy_tf_layers\\core.py:261: UserWarning: `layer.apply` is deprecated and will be removed in a future version. Please use `layer.__call__` method instead.\n",
      "  return layer.apply(inputs)\n",
      "C:\\Users\\mattr\\anaconda3\\envs\\mc\\lib\\site-packages\\tensorflow\\python\\client\\session.py:1768: UserWarning: An interactive session is already active. This can cause out-of-memory errors in some cases. You must explicitly call `InteractiveSession.close()` to release resources held by the other session(s).\n",
      "  warnings.warn('An interactive session is already active. This can '\n",
      "train loop: 100%|████████████████████████████████████████████| 300/300 [02:01<00:00,  2.47it/s, acc=97.2, cost=0.00183]"
     ]
    },
    {
     "name": "stdout",
     "output_type": "stream",
     "text": [
      "simulation 10\n",
      "WARNING:tensorflow:`tf.nn.rnn_cell.MultiRNNCell` is deprecated. This class is equivalent as `tf.keras.layers.StackedRNNCells`, and will be replaced by that in Tensorflow 2.0.\n"
     ]
    },
    {
     "name": "stderr",
     "output_type": "stream",
     "text": [
      "\n",
      "C:\\Users\\mattr\\AppData\\Local\\Temp\\ipykernel_14232\\4156939800.py:12: UserWarning: `tf.nn.rnn_cell.GRUCell` is deprecated and will be removed in a future version. This class is equivalent as `tf.keras.layers.GRUCell`, and will be replaced by that in Tensorflow 2.0.\n",
      "  return tf.nn.rnn_cell.GRUCell(size_layer)\n",
      "C:\\Users\\mattr\\anaconda3\\envs\\mc\\lib\\site-packages\\keras\\layers\\legacy_rnn\\rnn_cell_impl.py:570: UserWarning: `layer.add_variable` is deprecated and will be removed in a future version. Please use `layer.add_weight` method instead.\n",
      "  self._gate_kernel = self.add_variable(\n",
      "C:\\Users\\mattr\\anaconda3\\envs\\mc\\lib\\site-packages\\keras\\layers\\legacy_rnn\\rnn_cell_impl.py:574: UserWarning: `layer.add_variable` is deprecated and will be removed in a future version. Please use `layer.add_weight` method instead.\n",
      "  self._gate_bias = self.add_variable(\n",
      "C:\\Users\\mattr\\anaconda3\\envs\\mc\\lib\\site-packages\\keras\\layers\\legacy_rnn\\rnn_cell_impl.py:580: UserWarning: `layer.add_variable` is deprecated and will be removed in a future version. Please use `layer.add_weight` method instead.\n",
      "  self._candidate_kernel = self.add_variable(\n",
      "C:\\Users\\mattr\\anaconda3\\envs\\mc\\lib\\site-packages\\keras\\layers\\legacy_rnn\\rnn_cell_impl.py:584: UserWarning: `layer.add_variable` is deprecated and will be removed in a future version. Please use `layer.add_weight` method instead.\n",
      "  self._candidate_bias = self.add_variable(\n",
      "C:\\Users\\mattr\\AppData\\Local\\Temp\\ipykernel_14232\\4156939800.py:29: UserWarning: `tf.layers.dense` is deprecated and will be removed in a future version. Please use `tf.keras.layers.Dense` instead.\n",
      "  self.logits = tf.layers.dense(self.outputs[-1], output_size)\n",
      "C:\\Users\\mattr\\anaconda3\\envs\\mc\\lib\\site-packages\\keras\\legacy_tf_layers\\core.py:261: UserWarning: `layer.apply` is deprecated and will be removed in a future version. Please use `layer.__call__` method instead.\n",
      "  return layer.apply(inputs)\n",
      "C:\\Users\\mattr\\anaconda3\\envs\\mc\\lib\\site-packages\\tensorflow\\python\\client\\session.py:1768: UserWarning: An interactive session is already active. This can cause out-of-memory errors in some cases. You must explicitly call `InteractiveSession.close()` to release resources held by the other session(s).\n",
      "  warnings.warn('An interactive session is already active. This can '\n",
      "train loop: 100%|█████████████████████████████████████████████| 300/300 [01:55<00:00,  2.59it/s, acc=97.2, cost=0.0019]\n"
     ]
    }
   ],
   "source": [
    "results = []\n",
    "for i in range(simulation_size):\n",
    "    print('simulation %d'%(i + 1))\n",
    "    results.append(forecast())"
   ]
  },
  {
   "cell_type": "code",
   "execution_count": 10,
   "id": "ae95737b-53b6-4fe4-bda9-027c63af21cf",
   "metadata": {},
   "outputs": [
    {
     "ename": "IndentationError",
     "evalue": "unexpected indent (828437843.py, line 8)",
     "output_type": "error",
     "traceback": [
      "\u001b[1;36m  Input \u001b[1;32mIn [10]\u001b[1;36m\u001b[0m\n\u001b[1;33m    plt.show()\u001b[0m\n\u001b[1;37m    ^\u001b[0m\n\u001b[1;31mIndentationError\u001b[0m\u001b[1;31m:\u001b[0m unexpected indent\n"
     ]
    }
   ],
   "source": [
    "accuracies = [calculate_accuracy(tsla_df['Close'].iloc[-test_size:].values, r) for r in results]\n",
    "print(results)\n",
    "plt.figure(figsize = (15, 5))\n",
    "for no, r in enumerate(results):\n",
    "    plt.plot(r, label = 'forecast %d'%(no + 1))\n",
    "plt.plot(tsla_df['Close'].iloc[-test_size:].values, label = 'true trend', c = 'black')\n",
    "plt.legend()\n",
    " plt.show()"
   ]
  },
  {
   "cell_type": "code",
   "execution_count": null,
   "id": "263dcf63-c68c-4cb6-a2ef-7bf096d241ad",
   "metadata": {},
   "outputs": [],
   "source": []
  },
  {
   "cell_type": "code",
   "execution_count": null,
   "id": "4f986589-7f4d-4089-8cc0-dbe65f9df052",
   "metadata": {},
   "outputs": [],
   "source": []
  },
  {
   "cell_type": "code",
   "execution_count": null,
   "id": "f1bfac15-3370-4564-8066-5f9fadae95a8",
   "metadata": {},
   "outputs": [],
   "source": []
  },
  {
   "cell_type": "code",
   "execution_count": null,
   "id": "ccd71bc6-a962-4dd6-8b52-0217e3188db9",
   "metadata": {},
   "outputs": [],
   "source": []
  },
  {
   "cell_type": "code",
   "execution_count": null,
   "id": "e9989225-7dea-4469-80dd-3cfc66ac521d",
   "metadata": {},
   "outputs": [],
   "source": []
  },
  {
   "cell_type": "code",
   "execution_count": null,
   "id": "05f551c8-39c8-4c26-8424-1bca79dc7998",
   "metadata": {},
   "outputs": [],
   "source": []
  }
 ],
 "metadata": {
  "kernelspec": {
   "display_name": "Python 3 (ipykernel)",
   "language": "python",
   "name": "python3"
  },
  "language_info": {
   "codemirror_mode": {
    "name": "ipython",
    "version": 3
   },
   "file_extension": ".py",
   "mimetype": "text/x-python",
   "name": "python",
   "nbconvert_exporter": "python",
   "pygments_lexer": "ipython3",
   "version": "3.10.2"
  }
 },
 "nbformat": 4,
 "nbformat_minor": 5
}
