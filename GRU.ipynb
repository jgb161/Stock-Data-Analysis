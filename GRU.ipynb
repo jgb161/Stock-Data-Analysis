{
 "cells": [
  {
   "cell_type": "code",
   "execution_count": 1,
   "id": "92c9b196-67c3-454c-a4a0-0d4c33e32cf4",
   "metadata": {},
   "outputs": [
    {
     "name": "stdout",
     "output_type": "stream",
     "text": [
      "WARNING:tensorflow:From C:\\Users\\mattr\\anaconda3\\envs\\mc\\lib\\site-packages\\tensorflow\\python\\compat\\v2_compat.py:107: disable_resource_variables (from tensorflow.python.ops.variable_scope) is deprecated and will be removed in a future version.\n",
      "Instructions for updating:\n",
      "non-resource variables are not supported in the long term\n",
      "<module 'tensorflow.compat.v1.version' from 'C:\\\\Users\\\\mattr\\\\anaconda3\\\\envs\\\\mc\\\\lib\\\\site-packages\\\\tensorflow\\\\_api\\\\v2\\\\compat\\\\v1\\\\version\\\\__init__.py'>\n"
     ]
    }
   ],
   "source": [
    "# Import required libraries\n",
    "import tensorflow.compat.v1 as tf\n",
    "tf.disable_v2_behavior()\n",
    "print(tf.version)\n",
    "# import tensorflow as tf\n",
    "import numpy as np\n",
    "import matplotlib.pyplot as plt\n",
    "import seaborn as sns\n",
    "from sklearn.preprocessing import MinMaxScaler\n",
    "from datetime import datetime\n",
    "from datetime import timedelta\n",
    "from tqdm import tqdm\n",
    "sns.set()\n",
    "tf.compat.v1.random.set_random_seed(1234)\n",
    "import pandas as pd"
   ]
  },
  {
   "cell_type": "code",
   "execution_count": 2,
   "id": "ebcccf19-0a2d-45b9-8a29-56ce772e2121",
   "metadata": {},
   "outputs": [],
   "source": [
    "# path = Path('./tsla.csv')\n",
    "tsla_df = pd.read_csv('./tsla.csv', index_col='Date', infer_datetime_format=True, parse_dates=True)"
   ]
  },
  {
   "cell_type": "code",
   "execution_count": 3,
   "id": "ec2b6e14-1570-4032-ab11-bae24c9cb877",
   "metadata": {},
   "outputs": [
    {
     "data": {
      "text/html": [
       "<div>\n",
       "<style scoped>\n",
       "    .dataframe tbody tr th:only-of-type {\n",
       "        vertical-align: middle;\n",
       "    }\n",
       "\n",
       "    .dataframe tbody tr th {\n",
       "        vertical-align: top;\n",
       "    }\n",
       "\n",
       "    .dataframe thead th {\n",
       "        text-align: right;\n",
       "    }\n",
       "</style>\n",
       "<table border=\"1\" class=\"dataframe\">\n",
       "  <thead>\n",
       "    <tr style=\"text-align: right;\">\n",
       "      <th></th>\n",
       "      <th>Open</th>\n",
       "      <th>High</th>\n",
       "      <th>Low</th>\n",
       "      <th>Close</th>\n",
       "      <th>Volume</th>\n",
       "    </tr>\n",
       "    <tr>\n",
       "      <th>Date</th>\n",
       "      <th></th>\n",
       "      <th></th>\n",
       "      <th></th>\n",
       "      <th></th>\n",
       "      <th></th>\n",
       "    </tr>\n",
       "  </thead>\n",
       "  <tbody>\n",
       "    <tr>\n",
       "      <th>2022-04-06</th>\n",
       "      <td>1073.470</td>\n",
       "      <td>1079.00000</td>\n",
       "      <td>1027.700</td>\n",
       "      <td>1045.760</td>\n",
       "      <td>29782848</td>\n",
       "    </tr>\n",
       "    <tr>\n",
       "      <th>2022-04-05</th>\n",
       "      <td>1136.300</td>\n",
       "      <td>1152.86990</td>\n",
       "      <td>1087.300</td>\n",
       "      <td>1091.260</td>\n",
       "      <td>26691673</td>\n",
       "    </tr>\n",
       "    <tr>\n",
       "      <th>2022-04-04</th>\n",
       "      <td>1089.380</td>\n",
       "      <td>1149.91000</td>\n",
       "      <td>1072.530</td>\n",
       "      <td>1145.450</td>\n",
       "      <td>27392567</td>\n",
       "    </tr>\n",
       "    <tr>\n",
       "      <th>2022-04-01</th>\n",
       "      <td>1081.150</td>\n",
       "      <td>1094.75000</td>\n",
       "      <td>1066.640</td>\n",
       "      <td>1084.590</td>\n",
       "      <td>18087741</td>\n",
       "    </tr>\n",
       "    <tr>\n",
       "      <th>2022-03-31</th>\n",
       "      <td>1094.570</td>\n",
       "      <td>1103.13980</td>\n",
       "      <td>1076.641</td>\n",
       "      <td>1077.600</td>\n",
       "      <td>16330919</td>\n",
       "    </tr>\n",
       "    <tr>\n",
       "      <th>...</th>\n",
       "      <td>...</td>\n",
       "      <td>...</td>\n",
       "      <td>...</td>\n",
       "      <td>...</td>\n",
       "      <td>...</td>\n",
       "    </tr>\n",
       "    <tr>\n",
       "      <th>2010-07-06</th>\n",
       "      <td>4.000</td>\n",
       "      <td>4.00000</td>\n",
       "      <td>3.166</td>\n",
       "      <td>3.222</td>\n",
       "      <td>34337250</td>\n",
       "    </tr>\n",
       "    <tr>\n",
       "      <th>2010-07-02</th>\n",
       "      <td>4.600</td>\n",
       "      <td>4.62000</td>\n",
       "      <td>3.742</td>\n",
       "      <td>3.840</td>\n",
       "      <td>25701600</td>\n",
       "    </tr>\n",
       "    <tr>\n",
       "      <th>2010-07-01</th>\n",
       "      <td>5.000</td>\n",
       "      <td>5.18400</td>\n",
       "      <td>4.054</td>\n",
       "      <td>4.392</td>\n",
       "      <td>41118695</td>\n",
       "    </tr>\n",
       "    <tr>\n",
       "      <th>2010-06-30</th>\n",
       "      <td>5.158</td>\n",
       "      <td>6.08384</td>\n",
       "      <td>4.660</td>\n",
       "      <td>4.766</td>\n",
       "      <td>85945040</td>\n",
       "    </tr>\n",
       "    <tr>\n",
       "      <th>2010-06-29</th>\n",
       "      <td>3.800</td>\n",
       "      <td>5.00000</td>\n",
       "      <td>3.508</td>\n",
       "      <td>4.778</td>\n",
       "      <td>93863235</td>\n",
       "    </tr>\n",
       "  </tbody>\n",
       "</table>\n",
       "<p>2965 rows × 5 columns</p>\n",
       "</div>"
      ],
      "text/plain": [
       "                Open        High       Low     Close    Volume\n",
       "Date                                                          \n",
       "2022-04-06  1073.470  1079.00000  1027.700  1045.760  29782848\n",
       "2022-04-05  1136.300  1152.86990  1087.300  1091.260  26691673\n",
       "2022-04-04  1089.380  1149.91000  1072.530  1145.450  27392567\n",
       "2022-04-01  1081.150  1094.75000  1066.640  1084.590  18087741\n",
       "2022-03-31  1094.570  1103.13980  1076.641  1077.600  16330919\n",
       "...              ...         ...       ...       ...       ...\n",
       "2010-07-06     4.000     4.00000     3.166     3.222  34337250\n",
       "2010-07-02     4.600     4.62000     3.742     3.840  25701600\n",
       "2010-07-01     5.000     5.18400     4.054     4.392  41118695\n",
       "2010-06-30     5.158     6.08384     4.660     4.766  85945040\n",
       "2010-06-29     3.800     5.00000     3.508     4.778  93863235\n",
       "\n",
       "[2965 rows x 5 columns]"
      ]
     },
     "execution_count": 3,
     "metadata": {},
     "output_type": "execute_result"
    }
   ],
   "source": [
    "# drop empty column\n",
    "tsla_df.drop(columns=['Down', 'RSI(14)', 'Up'], inplace=True)\n",
    "# drop null values\n",
    "tsla_df.dropna(inplace=True)\n",
    "tsla_df"
   ]
  },
  {
   "cell_type": "code",
   "execution_count": 4,
   "id": "78a2b15c-2d95-4007-b1e8-f74df0ac06dd",
   "metadata": {},
   "outputs": [
    {
     "data": {
      "text/html": [
       "<div>\n",
       "<style scoped>\n",
       "    .dataframe tbody tr th:only-of-type {\n",
       "        vertical-align: middle;\n",
       "    }\n",
       "\n",
       "    .dataframe tbody tr th {\n",
       "        vertical-align: top;\n",
       "    }\n",
       "\n",
       "    .dataframe thead th {\n",
       "        text-align: right;\n",
       "    }\n",
       "</style>\n",
       "<table border=\"1\" class=\"dataframe\">\n",
       "  <thead>\n",
       "    <tr style=\"text-align: right;\">\n",
       "      <th></th>\n",
       "      <th>0</th>\n",
       "    </tr>\n",
       "  </thead>\n",
       "  <tbody>\n",
       "    <tr>\n",
       "      <th>0</th>\n",
       "      <td>0.849888</td>\n",
       "    </tr>\n",
       "    <tr>\n",
       "      <th>1</th>\n",
       "      <td>0.886978</td>\n",
       "    </tr>\n",
       "    <tr>\n",
       "      <th>2</th>\n",
       "      <td>0.931151</td>\n",
       "    </tr>\n",
       "    <tr>\n",
       "      <th>3</th>\n",
       "      <td>0.881541</td>\n",
       "    </tr>\n",
       "    <tr>\n",
       "      <th>4</th>\n",
       "      <td>0.875843</td>\n",
       "    </tr>\n",
       "  </tbody>\n",
       "</table>\n",
       "</div>"
      ],
      "text/plain": [
       "          0\n",
       "0  0.849888\n",
       "1  0.886978\n",
       "2  0.931151\n",
       "3  0.881541\n",
       "4  0.875843"
      ]
     },
     "execution_count": 4,
     "metadata": {},
     "output_type": "execute_result"
    }
   ],
   "source": [
    "minmax = MinMaxScaler().fit(tsla_df.iloc[:, 3:4].astype('float32')) # Close index\n",
    "df_log = minmax.transform(tsla_df.iloc[:, 3:4].astype('float32')) # Close index\n",
    "df_log = pd.DataFrame(df_log)\n",
    "df_log.head()"
   ]
  },
  {
   "cell_type": "code",
   "execution_count": 5,
   "id": "6cac2214-0e85-4fbb-8c45-b039779b419d",
   "metadata": {},
   "outputs": [
    {
     "data": {
      "text/plain": [
       "((2965, 5), (2935, 1), (30, 1))"
      ]
     },
     "execution_count": 5,
     "metadata": {},
     "output_type": "execute_result"
    }
   ],
   "source": [
    "test_size = 30\n",
    "simulation_size = 10\n",
    "\n",
    "df_train = df_log.iloc[:-test_size]\n",
    "df_test = df_log.iloc[-test_size:]\n",
    "tsla_df.shape, df_train.shape, df_test.shape"
   ]
  },
  {
   "cell_type": "code",
   "execution_count": 6,
   "id": "dba90468-1da8-492a-8238-f6258001284c",
   "metadata": {},
   "outputs": [],
   "source": [
    "class Model:\n",
    "    def __init__(\n",
    "        self,\n",
    "        learning_rate,\n",
    "        num_layers,\n",
    "        size,\n",
    "        size_layer,\n",
    "        output_size,\n",
    "        forget_bias = 0.1,\n",
    "    ):\n",
    "        def lstm_cell(size_layer):\n",
    "            return tf.nn.rnn_cell.GRUCell(size_layer)\n",
    "\n",
    "        rnn_cells = tf.nn.rnn_cell.MultiRNNCell(\n",
    "            [lstm_cell(size_layer) for _ in range(num_layers)],\n",
    "            state_is_tuple = False,\n",
    "        )\n",
    "        self.X = tf.placeholder(tf.float32, (None, None, size))\n",
    "        self.Y = tf.placeholder(tf.float32, (None, output_size))\n",
    "        drop = tf.nn.rnn_cell.DropoutWrapper(\n",
    "            rnn_cells, output_keep_prob = forget_bias\n",
    "        )\n",
    "        self.hidden_layer = tf.placeholder(\n",
    "            tf.float32, (None, num_layers * size_layer)\n",
    "        )\n",
    "        self.outputs, self.last_state = tf.nn.dynamic_rnn(\n",
    "            drop, self.X, initial_state = self.hidden_layer, dtype = tf.float32\n",
    "        )\n",
    "        self.logits = tf.layers.dense(self.outputs[-1], output_size)\n",
    "        self.cost = tf.reduce_mean(tf.square(self.Y - self.logits))\n",
    "        self.optimizer = tf.train.AdamOptimizer(learning_rate).minimize(\n",
    "            self.cost\n",
    "        )\n",
    "        \n",
    "def calculate_accuracy(real, predict):\n",
    "    real = np.array(real) + 1\n",
    "    predict = np.array(predict) + 1\n",
    "    percentage = 1 - np.sqrt(np.mean(np.square((real - predict) / real)))\n",
    "    return percentage * 100\n",
    "\n",
    "def anchor(signal, weight):\n",
    "    buffer = []\n",
    "    last = signal[0]\n",
    "    for i in signal:\n",
    "        smoothed_val = last * weight + (1 - weight) * i\n",
    "        buffer.append(smoothed_val)\n",
    "        last = smoothed_val\n",
    "    return buffer"
   ]
  },
  {
   "cell_type": "code",
   "execution_count": 7,
   "id": "e2cfb0da-5b6a-4c87-ac7f-5860d7210d48",
   "metadata": {},
   "outputs": [],
   "source": [
    "num_layers = 1\n",
    "size_layer = 128\n",
    "timestamp = 5\n",
    "epoch = 300\n",
    "dropout_rate = 0.8\n",
    "future_day = test_size\n",
    "learning_rate = 0.01"
   ]
  },
  {
   "cell_type": "code",
   "execution_count": 8,
   "id": "ffb5afc4-eac0-4cd8-a59c-853622883b3f",
   "metadata": {},
   "outputs": [],
   "source": [
    "def forecast():\n",
    "    tf.compat.v1.reset_default_graph()\n",
    "    modelnn = Model(\n",
    "        learning_rate, num_layers, df_log.shape[1], size_layer, df_log.shape[1], dropout_rate\n",
    "    )\n",
    "    sess = tf.InteractiveSession()\n",
    "    sess.run(tf.global_variables_initializer())\n",
    "    date_ori = pd.to_datetime(tsla_df.iloc[:, 0]).tolist()\n",
    "\n",
    "    pbar = tqdm(range(epoch), desc = 'train loop')\n",
    "    for i in pbar:\n",
    "        init_value = np.zeros((1, num_layers * size_layer))\n",
    "        total_loss, total_acc = [], []\n",
    "        for k in range(0, df_train.shape[0] - 1, timestamp):\n",
    "            index = min(k + timestamp, df_train.shape[0] - 1)\n",
    "            batch_x = np.expand_dims(\n",
    "                df_train.iloc[k : index, :].values, axis = 0\n",
    "            )\n",
    "            batch_y = df_train.iloc[k + 1 : index + 1, :].values\n",
    "            logits, last_state, _, loss = sess.run(\n",
    "                [modelnn.logits, modelnn.last_state, modelnn.optimizer, modelnn.cost],\n",
    "                feed_dict = {\n",
    "                    modelnn.X: batch_x,\n",
    "                    modelnn.Y: batch_y,\n",
    "                    modelnn.hidden_layer: init_value,\n",
    "                },\n",
    "            )        \n",
    "            init_value = last_state\n",
    "            total_loss.append(loss)\n",
    "            total_acc.append(calculate_accuracy(batch_y[:, 0], logits[:, 0]))\n",
    "        pbar.set_postfix(cost = np.mean(total_loss), acc = np.mean(total_acc))\n",
    "    \n",
    "    future_day = test_size\n",
    "\n",
    "    output_predict = np.zeros((df_train.shape[0] + future_day, df_train.shape[1]))\n",
    "    output_predict[0] = df_train.iloc[0]\n",
    "    upper_b = (df_train.shape[0] // timestamp) * timestamp\n",
    "    init_value = np.zeros((1, num_layers * size_layer))\n",
    "\n",
    "    for k in range(0, (df_train.shape[0] // timestamp) * timestamp, timestamp):\n",
    "        out_logits, last_state = sess.run(\n",
    "            [modelnn.logits, modelnn.last_state],\n",
    "            feed_dict = {\n",
    "                modelnn.X: np.expand_dims(\n",
    "                    df_train.iloc[k : k + timestamp], axis = 0\n",
    "                ),\n",
    "                modelnn.hidden_layer: init_value,\n",
    "            },\n",
    "        )\n",
    "        init_value = last_state\n",
    "        output_predict[k + 1 : k + timestamp + 1] = out_logits\n",
    "\n",
    "    if upper_b != df_train.shape[0]:\n",
    "        out_logits, last_state = sess.run(\n",
    "            [modelnn.logits, modelnn.last_state],\n",
    "            feed_dict = {\n",
    "                modelnn.X: np.expand_dims(df_train.iloc[upper_b:], axis = 0),\n",
    "                modelnn.hidden_layer: init_value,\n",
    "            },\n",
    "        )\n",
    "        output_predict[upper_b + 1 : df_train.shape[0] + 1] = out_logits\n",
    "        future_day -= 1\n",
    "        date_ori.append(date_ori[-1] + timedelta(days = 1))\n",
    "\n",
    "    init_value = last_state\n",
    "    \n",
    "    for i in range(future_day):\n",
    "        o = output_predict[-future_day - timestamp + i:-future_day + i]\n",
    "        out_logits, last_state = sess.run(\n",
    "            [modelnn.logits, modelnn.last_state],\n",
    "            feed_dict = {\n",
    "                modelnn.X: np.expand_dims(o, axis = 0),\n",
    "                modelnn.hidden_layer: init_value,\n",
    "            },\n",
    "        )\n",
    "        init_value = last_state\n",
    "        output_predict[-future_day + i] = out_logits[-1]\n",
    "        date_ori.append(date_ori[-1] + timedelta(days = 1))\n",
    "    \n",
    "    output_predict = minmax.inverse_transform(output_predict)\n",
    "    deep_future = anchor(output_predict[:, 0], 0.3)\n",
    "    \n",
    "    return deep_future[-test_size:]"
   ]
  },
  {
   "cell_type": "code",
   "execution_count": 9,
   "id": "0053ece5-e61c-4c43-8500-f8d429cf3cab",
   "metadata": {},
   "outputs": [
    {
     "name": "stdout",
     "output_type": "stream",
     "text": [
      "simulation 1\n",
      "WARNING:tensorflow:`tf.nn.rnn_cell.MultiRNNCell` is deprecated. This class is equivalent as `tf.keras.layers.StackedRNNCells`, and will be replaced by that in Tensorflow 2.0.\n",
      "WARNING:tensorflow:From C:\\Users\\mattr\\AppData\\Local\\Temp\\ipykernel_14236\\4156939800.py:26: dynamic_rnn (from tensorflow.python.ops.rnn) is deprecated and will be removed in a future version.\n",
      "Instructions for updating:\n",
      "Please use `keras.layers.RNN(cell)`, which is equivalent to this API\n",
      "WARNING:tensorflow:From C:\\Users\\mattr\\anaconda3\\envs\\mc\\lib\\site-packages\\keras\\layers\\legacy_rnn\\rnn_cell_impl.py:579: calling Constant.__init__ (from tensorflow.python.ops.init_ops) with dtype is deprecated and will be removed in a future version.\n",
      "Instructions for updating:\n",
      "Call initializer instance with the dtype argument instead of passing it to the constructor\n",
      "WARNING:tensorflow:From C:\\Users\\mattr\\anaconda3\\envs\\mc\\lib\\site-packages\\keras\\layers\\legacy_rnn\\rnn_cell_impl.py:589: calling Zeros.__init__ (from tensorflow.python.ops.init_ops) with dtype is deprecated and will be removed in a future version.\n",
      "Instructions for updating:\n",
      "Call initializer instance with the dtype argument instead of passing it to the constructor\n"
     ]
    },
    {
     "name": "stderr",
     "output_type": "stream",
     "text": [
      "C:\\Users\\mattr\\AppData\\Local\\Temp\\ipykernel_14236\\4156939800.py:12: UserWarning: `tf.nn.rnn_cell.GRUCell` is deprecated and will be removed in a future version. This class is equivalent as `tf.keras.layers.GRUCell`, and will be replaced by that in Tensorflow 2.0.\n",
      "  return tf.nn.rnn_cell.GRUCell(size_layer)\n",
      "C:\\Users\\mattr\\anaconda3\\envs\\mc\\lib\\site-packages\\keras\\layers\\legacy_rnn\\rnn_cell_impl.py:570: UserWarning: `layer.add_variable` is deprecated and will be removed in a future version. Please use `layer.add_weight` method instead.\n",
      "  self._gate_kernel = self.add_variable(\n",
      "C:\\Users\\mattr\\anaconda3\\envs\\mc\\lib\\site-packages\\keras\\layers\\legacy_rnn\\rnn_cell_impl.py:574: UserWarning: `layer.add_variable` is deprecated and will be removed in a future version. Please use `layer.add_weight` method instead.\n",
      "  self._gate_bias = self.add_variable(\n",
      "C:\\Users\\mattr\\anaconda3\\envs\\mc\\lib\\site-packages\\keras\\layers\\legacy_rnn\\rnn_cell_impl.py:580: UserWarning: `layer.add_variable` is deprecated and will be removed in a future version. Please use `layer.add_weight` method instead.\n",
      "  self._candidate_kernel = self.add_variable(\n",
      "C:\\Users\\mattr\\anaconda3\\envs\\mc\\lib\\site-packages\\keras\\layers\\legacy_rnn\\rnn_cell_impl.py:584: UserWarning: `layer.add_variable` is deprecated and will be removed in a future version. Please use `layer.add_weight` method instead.\n",
      "  self._candidate_bias = self.add_variable(\n",
      "C:\\Users\\mattr\\AppData\\Local\\Temp\\ipykernel_14236\\4156939800.py:29: UserWarning: `tf.layers.dense` is deprecated and will be removed in a future version. Please use `tf.keras.layers.Dense` instead.\n",
      "  self.logits = tf.layers.dense(self.outputs[-1], output_size)\n",
      "C:\\Users\\mattr\\anaconda3\\envs\\mc\\lib\\site-packages\\keras\\legacy_tf_layers\\core.py:261: UserWarning: `layer.apply` is deprecated and will be removed in a future version. Please use `layer.__call__` method instead.\n",
      "  return layer.apply(inputs)\n",
      "train loop: 100%|████████████████████████████████████████████| 300/300 [05:40<00:00,  1.13s/it, acc=96.6, cost=0.00825]\n"
     ]
    },
    {
     "name": "stdout",
     "output_type": "stream",
     "text": [
      "simulation 2\n",
      "WARNING:tensorflow:`tf.nn.rnn_cell.MultiRNNCell` is deprecated. This class is equivalent as `tf.keras.layers.StackedRNNCells`, and will be replaced by that in Tensorflow 2.0.\n"
     ]
    },
    {
     "name": "stderr",
     "output_type": "stream",
     "text": [
      "C:\\Users\\mattr\\AppData\\Local\\Temp\\ipykernel_14236\\4156939800.py:12: UserWarning: `tf.nn.rnn_cell.GRUCell` is deprecated and will be removed in a future version. This class is equivalent as `tf.keras.layers.GRUCell`, and will be replaced by that in Tensorflow 2.0.\n",
      "  return tf.nn.rnn_cell.GRUCell(size_layer)\n",
      "C:\\Users\\mattr\\anaconda3\\envs\\mc\\lib\\site-packages\\keras\\layers\\legacy_rnn\\rnn_cell_impl.py:570: UserWarning: `layer.add_variable` is deprecated and will be removed in a future version. Please use `layer.add_weight` method instead.\n",
      "  self._gate_kernel = self.add_variable(\n",
      "C:\\Users\\mattr\\anaconda3\\envs\\mc\\lib\\site-packages\\keras\\layers\\legacy_rnn\\rnn_cell_impl.py:574: UserWarning: `layer.add_variable` is deprecated and will be removed in a future version. Please use `layer.add_weight` method instead.\n",
      "  self._gate_bias = self.add_variable(\n",
      "C:\\Users\\mattr\\anaconda3\\envs\\mc\\lib\\site-packages\\keras\\layers\\legacy_rnn\\rnn_cell_impl.py:580: UserWarning: `layer.add_variable` is deprecated and will be removed in a future version. Please use `layer.add_weight` method instead.\n",
      "  self._candidate_kernel = self.add_variable(\n",
      "C:\\Users\\mattr\\anaconda3\\envs\\mc\\lib\\site-packages\\keras\\layers\\legacy_rnn\\rnn_cell_impl.py:584: UserWarning: `layer.add_variable` is deprecated and will be removed in a future version. Please use `layer.add_weight` method instead.\n",
      "  self._candidate_bias = self.add_variable(\n",
      "C:\\Users\\mattr\\AppData\\Local\\Temp\\ipykernel_14236\\4156939800.py:29: UserWarning: `tf.layers.dense` is deprecated and will be removed in a future version. Please use `tf.keras.layers.Dense` instead.\n",
      "  self.logits = tf.layers.dense(self.outputs[-1], output_size)\n",
      "C:\\Users\\mattr\\anaconda3\\envs\\mc\\lib\\site-packages\\keras\\legacy_tf_layers\\core.py:261: UserWarning: `layer.apply` is deprecated and will be removed in a future version. Please use `layer.__call__` method instead.\n",
      "  return layer.apply(inputs)\n",
      "C:\\Users\\mattr\\anaconda3\\envs\\mc\\lib\\site-packages\\tensorflow\\python\\client\\session.py:1768: UserWarning: An interactive session is already active. This can cause out-of-memory errors in some cases. You must explicitly call `InteractiveSession.close()` to release resources held by the other session(s).\n",
      "  warnings.warn('An interactive session is already active. This can '\n",
      "train loop: 100%|████████████████████████████████████████████| 300/300 [05:26<00:00,  1.09s/it, acc=97.1, cost=0.00487]\n"
     ]
    },
    {
     "name": "stdout",
     "output_type": "stream",
     "text": [
      "simulation 3\n",
      "WARNING:tensorflow:`tf.nn.rnn_cell.MultiRNNCell` is deprecated. This class is equivalent as `tf.keras.layers.StackedRNNCells`, and will be replaced by that in Tensorflow 2.0.\n"
     ]
    },
    {
     "name": "stderr",
     "output_type": "stream",
     "text": [
      "C:\\Users\\mattr\\AppData\\Local\\Temp\\ipykernel_14236\\4156939800.py:12: UserWarning: `tf.nn.rnn_cell.GRUCell` is deprecated and will be removed in a future version. This class is equivalent as `tf.keras.layers.GRUCell`, and will be replaced by that in Tensorflow 2.0.\n",
      "  return tf.nn.rnn_cell.GRUCell(size_layer)\n",
      "C:\\Users\\mattr\\anaconda3\\envs\\mc\\lib\\site-packages\\keras\\layers\\legacy_rnn\\rnn_cell_impl.py:570: UserWarning: `layer.add_variable` is deprecated and will be removed in a future version. Please use `layer.add_weight` method instead.\n",
      "  self._gate_kernel = self.add_variable(\n",
      "C:\\Users\\mattr\\anaconda3\\envs\\mc\\lib\\site-packages\\keras\\layers\\legacy_rnn\\rnn_cell_impl.py:574: UserWarning: `layer.add_variable` is deprecated and will be removed in a future version. Please use `layer.add_weight` method instead.\n",
      "  self._gate_bias = self.add_variable(\n",
      "C:\\Users\\mattr\\anaconda3\\envs\\mc\\lib\\site-packages\\keras\\layers\\legacy_rnn\\rnn_cell_impl.py:580: UserWarning: `layer.add_variable` is deprecated and will be removed in a future version. Please use `layer.add_weight` method instead.\n",
      "  self._candidate_kernel = self.add_variable(\n",
      "C:\\Users\\mattr\\anaconda3\\envs\\mc\\lib\\site-packages\\keras\\layers\\legacy_rnn\\rnn_cell_impl.py:584: UserWarning: `layer.add_variable` is deprecated and will be removed in a future version. Please use `layer.add_weight` method instead.\n",
      "  self._candidate_bias = self.add_variable(\n",
      "C:\\Users\\mattr\\AppData\\Local\\Temp\\ipykernel_14236\\4156939800.py:29: UserWarning: `tf.layers.dense` is deprecated and will be removed in a future version. Please use `tf.keras.layers.Dense` instead.\n",
      "  self.logits = tf.layers.dense(self.outputs[-1], output_size)\n",
      "C:\\Users\\mattr\\anaconda3\\envs\\mc\\lib\\site-packages\\keras\\legacy_tf_layers\\core.py:261: UserWarning: `layer.apply` is deprecated and will be removed in a future version. Please use `layer.__call__` method instead.\n",
      "  return layer.apply(inputs)\n",
      "C:\\Users\\mattr\\anaconda3\\envs\\mc\\lib\\site-packages\\tensorflow\\python\\client\\session.py:1768: UserWarning: An interactive session is already active. This can cause out-of-memory errors in some cases. You must explicitly call `InteractiveSession.close()` to release resources held by the other session(s).\n",
      "  warnings.warn('An interactive session is already active. This can '\n",
      "train loop: 100%|████████████████████████████████████████████| 300/300 [05:27<00:00,  1.09s/it, acc=97.2, cost=0.00624]\n"
     ]
    },
    {
     "name": "stdout",
     "output_type": "stream",
     "text": [
      "simulation 4\n",
      "WARNING:tensorflow:`tf.nn.rnn_cell.MultiRNNCell` is deprecated. This class is equivalent as `tf.keras.layers.StackedRNNCells`, and will be replaced by that in Tensorflow 2.0.\n"
     ]
    },
    {
     "name": "stderr",
     "output_type": "stream",
     "text": [
      "C:\\Users\\mattr\\AppData\\Local\\Temp\\ipykernel_14236\\4156939800.py:12: UserWarning: `tf.nn.rnn_cell.GRUCell` is deprecated and will be removed in a future version. This class is equivalent as `tf.keras.layers.GRUCell`, and will be replaced by that in Tensorflow 2.0.\n",
      "  return tf.nn.rnn_cell.GRUCell(size_layer)\n",
      "C:\\Users\\mattr\\anaconda3\\envs\\mc\\lib\\site-packages\\keras\\layers\\legacy_rnn\\rnn_cell_impl.py:570: UserWarning: `layer.add_variable` is deprecated and will be removed in a future version. Please use `layer.add_weight` method instead.\n",
      "  self._gate_kernel = self.add_variable(\n",
      "C:\\Users\\mattr\\anaconda3\\envs\\mc\\lib\\site-packages\\keras\\layers\\legacy_rnn\\rnn_cell_impl.py:574: UserWarning: `layer.add_variable` is deprecated and will be removed in a future version. Please use `layer.add_weight` method instead.\n",
      "  self._gate_bias = self.add_variable(\n",
      "C:\\Users\\mattr\\anaconda3\\envs\\mc\\lib\\site-packages\\keras\\layers\\legacy_rnn\\rnn_cell_impl.py:580: UserWarning: `layer.add_variable` is deprecated and will be removed in a future version. Please use `layer.add_weight` method instead.\n",
      "  self._candidate_kernel = self.add_variable(\n",
      "C:\\Users\\mattr\\anaconda3\\envs\\mc\\lib\\site-packages\\keras\\layers\\legacy_rnn\\rnn_cell_impl.py:584: UserWarning: `layer.add_variable` is deprecated and will be removed in a future version. Please use `layer.add_weight` method instead.\n",
      "  self._candidate_bias = self.add_variable(\n",
      "C:\\Users\\mattr\\AppData\\Local\\Temp\\ipykernel_14236\\4156939800.py:29: UserWarning: `tf.layers.dense` is deprecated and will be removed in a future version. Please use `tf.keras.layers.Dense` instead.\n",
      "  self.logits = tf.layers.dense(self.outputs[-1], output_size)\n",
      "C:\\Users\\mattr\\anaconda3\\envs\\mc\\lib\\site-packages\\keras\\legacy_tf_layers\\core.py:261: UserWarning: `layer.apply` is deprecated and will be removed in a future version. Please use `layer.__call__` method instead.\n",
      "  return layer.apply(inputs)\n",
      "C:\\Users\\mattr\\anaconda3\\envs\\mc\\lib\\site-packages\\tensorflow\\python\\client\\session.py:1768: UserWarning: An interactive session is already active. This can cause out-of-memory errors in some cases. You must explicitly call `InteractiveSession.close()` to release resources held by the other session(s).\n",
      "  warnings.warn('An interactive session is already active. This can '\n",
      "train loop: 100%|███████████████████████████████████████████████| 300/300 [05:49<00:00,  1.16s/it, acc=96.3, cost=0.01]\n"
     ]
    },
    {
     "name": "stdout",
     "output_type": "stream",
     "text": [
      "simulation 5\n",
      "WARNING:tensorflow:`tf.nn.rnn_cell.MultiRNNCell` is deprecated. This class is equivalent as `tf.keras.layers.StackedRNNCells`, and will be replaced by that in Tensorflow 2.0.\n"
     ]
    },
    {
     "name": "stderr",
     "output_type": "stream",
     "text": [
      "C:\\Users\\mattr\\AppData\\Local\\Temp\\ipykernel_14236\\4156939800.py:12: UserWarning: `tf.nn.rnn_cell.GRUCell` is deprecated and will be removed in a future version. This class is equivalent as `tf.keras.layers.GRUCell`, and will be replaced by that in Tensorflow 2.0.\n",
      "  return tf.nn.rnn_cell.GRUCell(size_layer)\n",
      "C:\\Users\\mattr\\anaconda3\\envs\\mc\\lib\\site-packages\\keras\\layers\\legacy_rnn\\rnn_cell_impl.py:570: UserWarning: `layer.add_variable` is deprecated and will be removed in a future version. Please use `layer.add_weight` method instead.\n",
      "  self._gate_kernel = self.add_variable(\n",
      "C:\\Users\\mattr\\anaconda3\\envs\\mc\\lib\\site-packages\\keras\\layers\\legacy_rnn\\rnn_cell_impl.py:574: UserWarning: `layer.add_variable` is deprecated and will be removed in a future version. Please use `layer.add_weight` method instead.\n",
      "  self._gate_bias = self.add_variable(\n",
      "C:\\Users\\mattr\\anaconda3\\envs\\mc\\lib\\site-packages\\keras\\layers\\legacy_rnn\\rnn_cell_impl.py:580: UserWarning: `layer.add_variable` is deprecated and will be removed in a future version. Please use `layer.add_weight` method instead.\n",
      "  self._candidate_kernel = self.add_variable(\n",
      "C:\\Users\\mattr\\anaconda3\\envs\\mc\\lib\\site-packages\\keras\\layers\\legacy_rnn\\rnn_cell_impl.py:584: UserWarning: `layer.add_variable` is deprecated and will be removed in a future version. Please use `layer.add_weight` method instead.\n",
      "  self._candidate_bias = self.add_variable(\n",
      "C:\\Users\\mattr\\AppData\\Local\\Temp\\ipykernel_14236\\4156939800.py:29: UserWarning: `tf.layers.dense` is deprecated and will be removed in a future version. Please use `tf.keras.layers.Dense` instead.\n",
      "  self.logits = tf.layers.dense(self.outputs[-1], output_size)\n",
      "C:\\Users\\mattr\\anaconda3\\envs\\mc\\lib\\site-packages\\keras\\legacy_tf_layers\\core.py:261: UserWarning: `layer.apply` is deprecated and will be removed in a future version. Please use `layer.__call__` method instead.\n",
      "  return layer.apply(inputs)\n",
      "C:\\Users\\mattr\\anaconda3\\envs\\mc\\lib\\site-packages\\tensorflow\\python\\client\\session.py:1768: UserWarning: An interactive session is already active. This can cause out-of-memory errors in some cases. You must explicitly call `InteractiveSession.close()` to release resources held by the other session(s).\n",
      "  warnings.warn('An interactive session is already active. This can '\n",
      "train loop: 100%|████████████████████████████████████████████| 300/300 [05:29<00:00,  1.10s/it, acc=97.4, cost=0.00498]\n"
     ]
    },
    {
     "name": "stdout",
     "output_type": "stream",
     "text": [
      "simulation 6\n",
      "WARNING:tensorflow:`tf.nn.rnn_cell.MultiRNNCell` is deprecated. This class is equivalent as `tf.keras.layers.StackedRNNCells`, and will be replaced by that in Tensorflow 2.0.\n"
     ]
    },
    {
     "name": "stderr",
     "output_type": "stream",
     "text": [
      "C:\\Users\\mattr\\AppData\\Local\\Temp\\ipykernel_14236\\4156939800.py:12: UserWarning: `tf.nn.rnn_cell.GRUCell` is deprecated and will be removed in a future version. This class is equivalent as `tf.keras.layers.GRUCell`, and will be replaced by that in Tensorflow 2.0.\n",
      "  return tf.nn.rnn_cell.GRUCell(size_layer)\n",
      "C:\\Users\\mattr\\anaconda3\\envs\\mc\\lib\\site-packages\\keras\\layers\\legacy_rnn\\rnn_cell_impl.py:570: UserWarning: `layer.add_variable` is deprecated and will be removed in a future version. Please use `layer.add_weight` method instead.\n",
      "  self._gate_kernel = self.add_variable(\n",
      "C:\\Users\\mattr\\anaconda3\\envs\\mc\\lib\\site-packages\\keras\\layers\\legacy_rnn\\rnn_cell_impl.py:574: UserWarning: `layer.add_variable` is deprecated and will be removed in a future version. Please use `layer.add_weight` method instead.\n",
      "  self._gate_bias = self.add_variable(\n",
      "C:\\Users\\mattr\\anaconda3\\envs\\mc\\lib\\site-packages\\keras\\layers\\legacy_rnn\\rnn_cell_impl.py:580: UserWarning: `layer.add_variable` is deprecated and will be removed in a future version. Please use `layer.add_weight` method instead.\n",
      "  self._candidate_kernel = self.add_variable(\n",
      "C:\\Users\\mattr\\anaconda3\\envs\\mc\\lib\\site-packages\\keras\\layers\\legacy_rnn\\rnn_cell_impl.py:584: UserWarning: `layer.add_variable` is deprecated and will be removed in a future version. Please use `layer.add_weight` method instead.\n",
      "  self._candidate_bias = self.add_variable(\n",
      "C:\\Users\\mattr\\AppData\\Local\\Temp\\ipykernel_14236\\4156939800.py:29: UserWarning: `tf.layers.dense` is deprecated and will be removed in a future version. Please use `tf.keras.layers.Dense` instead.\n",
      "  self.logits = tf.layers.dense(self.outputs[-1], output_size)\n",
      "C:\\Users\\mattr\\anaconda3\\envs\\mc\\lib\\site-packages\\keras\\legacy_tf_layers\\core.py:261: UserWarning: `layer.apply` is deprecated and will be removed in a future version. Please use `layer.__call__` method instead.\n",
      "  return layer.apply(inputs)\n",
      "C:\\Users\\mattr\\anaconda3\\envs\\mc\\lib\\site-packages\\tensorflow\\python\\client\\session.py:1768: UserWarning: An interactive session is already active. This can cause out-of-memory errors in some cases. You must explicitly call `InteractiveSession.close()` to release resources held by the other session(s).\n",
      "  warnings.warn('An interactive session is already active. This can '\n",
      "train loop: 100%|████████████████████████████████████████████| 300/300 [05:41<00:00,  1.14s/it, acc=97.5, cost=0.00444]\n"
     ]
    },
    {
     "name": "stdout",
     "output_type": "stream",
     "text": [
      "simulation 7\n",
      "WARNING:tensorflow:`tf.nn.rnn_cell.MultiRNNCell` is deprecated. This class is equivalent as `tf.keras.layers.StackedRNNCells`, and will be replaced by that in Tensorflow 2.0.\n"
     ]
    },
    {
     "name": "stderr",
     "output_type": "stream",
     "text": [
      "C:\\Users\\mattr\\AppData\\Local\\Temp\\ipykernel_14236\\4156939800.py:12: UserWarning: `tf.nn.rnn_cell.GRUCell` is deprecated and will be removed in a future version. This class is equivalent as `tf.keras.layers.GRUCell`, and will be replaced by that in Tensorflow 2.0.\n",
      "  return tf.nn.rnn_cell.GRUCell(size_layer)\n",
      "C:\\Users\\mattr\\anaconda3\\envs\\mc\\lib\\site-packages\\keras\\layers\\legacy_rnn\\rnn_cell_impl.py:570: UserWarning: `layer.add_variable` is deprecated and will be removed in a future version. Please use `layer.add_weight` method instead.\n",
      "  self._gate_kernel = self.add_variable(\n",
      "C:\\Users\\mattr\\anaconda3\\envs\\mc\\lib\\site-packages\\keras\\layers\\legacy_rnn\\rnn_cell_impl.py:574: UserWarning: `layer.add_variable` is deprecated and will be removed in a future version. Please use `layer.add_weight` method instead.\n",
      "  self._gate_bias = self.add_variable(\n",
      "C:\\Users\\mattr\\anaconda3\\envs\\mc\\lib\\site-packages\\keras\\layers\\legacy_rnn\\rnn_cell_impl.py:580: UserWarning: `layer.add_variable` is deprecated and will be removed in a future version. Please use `layer.add_weight` method instead.\n",
      "  self._candidate_kernel = self.add_variable(\n",
      "C:\\Users\\mattr\\anaconda3\\envs\\mc\\lib\\site-packages\\keras\\layers\\legacy_rnn\\rnn_cell_impl.py:584: UserWarning: `layer.add_variable` is deprecated and will be removed in a future version. Please use `layer.add_weight` method instead.\n",
      "  self._candidate_bias = self.add_variable(\n",
      "C:\\Users\\mattr\\AppData\\Local\\Temp\\ipykernel_14236\\4156939800.py:29: UserWarning: `tf.layers.dense` is deprecated and will be removed in a future version. Please use `tf.keras.layers.Dense` instead.\n",
      "  self.logits = tf.layers.dense(self.outputs[-1], output_size)\n",
      "C:\\Users\\mattr\\anaconda3\\envs\\mc\\lib\\site-packages\\keras\\legacy_tf_layers\\core.py:261: UserWarning: `layer.apply` is deprecated and will be removed in a future version. Please use `layer.__call__` method instead.\n",
      "  return layer.apply(inputs)\n",
      "C:\\Users\\mattr\\anaconda3\\envs\\mc\\lib\\site-packages\\tensorflow\\python\\client\\session.py:1768: UserWarning: An interactive session is already active. This can cause out-of-memory errors in some cases. You must explicitly call `InteractiveSession.close()` to release resources held by the other session(s).\n",
      "  warnings.warn('An interactive session is already active. This can '\n",
      "train loop: 100%|████████████████████████████████████████████| 300/300 [05:26<00:00,  1.09s/it, acc=97.3, cost=0.00522]\n"
     ]
    },
    {
     "name": "stdout",
     "output_type": "stream",
     "text": [
      "simulation 8\n",
      "WARNING:tensorflow:`tf.nn.rnn_cell.MultiRNNCell` is deprecated. This class is equivalent as `tf.keras.layers.StackedRNNCells`, and will be replaced by that in Tensorflow 2.0.\n"
     ]
    },
    {
     "name": "stderr",
     "output_type": "stream",
     "text": [
      "C:\\Users\\mattr\\AppData\\Local\\Temp\\ipykernel_14236\\4156939800.py:12: UserWarning: `tf.nn.rnn_cell.GRUCell` is deprecated and will be removed in a future version. This class is equivalent as `tf.keras.layers.GRUCell`, and will be replaced by that in Tensorflow 2.0.\n",
      "  return tf.nn.rnn_cell.GRUCell(size_layer)\n",
      "C:\\Users\\mattr\\anaconda3\\envs\\mc\\lib\\site-packages\\keras\\layers\\legacy_rnn\\rnn_cell_impl.py:570: UserWarning: `layer.add_variable` is deprecated and will be removed in a future version. Please use `layer.add_weight` method instead.\n",
      "  self._gate_kernel = self.add_variable(\n",
      "C:\\Users\\mattr\\anaconda3\\envs\\mc\\lib\\site-packages\\keras\\layers\\legacy_rnn\\rnn_cell_impl.py:574: UserWarning: `layer.add_variable` is deprecated and will be removed in a future version. Please use `layer.add_weight` method instead.\n",
      "  self._gate_bias = self.add_variable(\n",
      "C:\\Users\\mattr\\anaconda3\\envs\\mc\\lib\\site-packages\\keras\\layers\\legacy_rnn\\rnn_cell_impl.py:580: UserWarning: `layer.add_variable` is deprecated and will be removed in a future version. Please use `layer.add_weight` method instead.\n",
      "  self._candidate_kernel = self.add_variable(\n",
      "C:\\Users\\mattr\\anaconda3\\envs\\mc\\lib\\site-packages\\keras\\layers\\legacy_rnn\\rnn_cell_impl.py:584: UserWarning: `layer.add_variable` is deprecated and will be removed in a future version. Please use `layer.add_weight` method instead.\n",
      "  self._candidate_bias = self.add_variable(\n",
      "C:\\Users\\mattr\\AppData\\Local\\Temp\\ipykernel_14236\\4156939800.py:29: UserWarning: `tf.layers.dense` is deprecated and will be removed in a future version. Please use `tf.keras.layers.Dense` instead.\n",
      "  self.logits = tf.layers.dense(self.outputs[-1], output_size)\n",
      "C:\\Users\\mattr\\anaconda3\\envs\\mc\\lib\\site-packages\\keras\\legacy_tf_layers\\core.py:261: UserWarning: `layer.apply` is deprecated and will be removed in a future version. Please use `layer.__call__` method instead.\n",
      "  return layer.apply(inputs)\n",
      "C:\\Users\\mattr\\anaconda3\\envs\\mc\\lib\\site-packages\\tensorflow\\python\\client\\session.py:1768: UserWarning: An interactive session is already active. This can cause out-of-memory errors in some cases. You must explicitly call `InteractiveSession.close()` to release resources held by the other session(s).\n",
      "  warnings.warn('An interactive session is already active. This can '\n",
      "train loop: 100%|██████████████████████████████████████████████| 300/300 [05:24<00:00,  1.08s/it, acc=97, cost=0.00818]\n"
     ]
    },
    {
     "name": "stdout",
     "output_type": "stream",
     "text": [
      "simulation 9\n",
      "WARNING:tensorflow:`tf.nn.rnn_cell.MultiRNNCell` is deprecated. This class is equivalent as `tf.keras.layers.StackedRNNCells`, and will be replaced by that in Tensorflow 2.0.\n"
     ]
    },
    {
     "name": "stderr",
     "output_type": "stream",
     "text": [
      "C:\\Users\\mattr\\AppData\\Local\\Temp\\ipykernel_14236\\4156939800.py:12: UserWarning: `tf.nn.rnn_cell.GRUCell` is deprecated and will be removed in a future version. This class is equivalent as `tf.keras.layers.GRUCell`, and will be replaced by that in Tensorflow 2.0.\n",
      "  return tf.nn.rnn_cell.GRUCell(size_layer)\n",
      "C:\\Users\\mattr\\anaconda3\\envs\\mc\\lib\\site-packages\\keras\\layers\\legacy_rnn\\rnn_cell_impl.py:570: UserWarning: `layer.add_variable` is deprecated and will be removed in a future version. Please use `layer.add_weight` method instead.\n",
      "  self._gate_kernel = self.add_variable(\n",
      "C:\\Users\\mattr\\anaconda3\\envs\\mc\\lib\\site-packages\\keras\\layers\\legacy_rnn\\rnn_cell_impl.py:574: UserWarning: `layer.add_variable` is deprecated and will be removed in a future version. Please use `layer.add_weight` method instead.\n",
      "  self._gate_bias = self.add_variable(\n",
      "C:\\Users\\mattr\\anaconda3\\envs\\mc\\lib\\site-packages\\keras\\layers\\legacy_rnn\\rnn_cell_impl.py:580: UserWarning: `layer.add_variable` is deprecated and will be removed in a future version. Please use `layer.add_weight` method instead.\n",
      "  self._candidate_kernel = self.add_variable(\n",
      "C:\\Users\\mattr\\anaconda3\\envs\\mc\\lib\\site-packages\\keras\\layers\\legacy_rnn\\rnn_cell_impl.py:584: UserWarning: `layer.add_variable` is deprecated and will be removed in a future version. Please use `layer.add_weight` method instead.\n",
      "  self._candidate_bias = self.add_variable(\n",
      "C:\\Users\\mattr\\AppData\\Local\\Temp\\ipykernel_14236\\4156939800.py:29: UserWarning: `tf.layers.dense` is deprecated and will be removed in a future version. Please use `tf.keras.layers.Dense` instead.\n",
      "  self.logits = tf.layers.dense(self.outputs[-1], output_size)\n",
      "C:\\Users\\mattr\\anaconda3\\envs\\mc\\lib\\site-packages\\keras\\legacy_tf_layers\\core.py:261: UserWarning: `layer.apply` is deprecated and will be removed in a future version. Please use `layer.__call__` method instead.\n",
      "  return layer.apply(inputs)\n",
      "C:\\Users\\mattr\\anaconda3\\envs\\mc\\lib\\site-packages\\tensorflow\\python\\client\\session.py:1768: UserWarning: An interactive session is already active. This can cause out-of-memory errors in some cases. You must explicitly call `InteractiveSession.close()` to release resources held by the other session(s).\n",
      "  warnings.warn('An interactive session is already active. This can '\n",
      "train loop: 100%|█████████████████████████████████████████████| 300/300 [05:23<00:00,  1.08s/it, acc=96.6, cost=0.0073]\n"
     ]
    },
    {
     "name": "stdout",
     "output_type": "stream",
     "text": [
      "simulation 10\n",
      "WARNING:tensorflow:`tf.nn.rnn_cell.MultiRNNCell` is deprecated. This class is equivalent as `tf.keras.layers.StackedRNNCells`, and will be replaced by that in Tensorflow 2.0.\n"
     ]
    },
    {
     "name": "stderr",
     "output_type": "stream",
     "text": [
      "C:\\Users\\mattr\\AppData\\Local\\Temp\\ipykernel_14236\\4156939800.py:12: UserWarning: `tf.nn.rnn_cell.GRUCell` is deprecated and will be removed in a future version. This class is equivalent as `tf.keras.layers.GRUCell`, and will be replaced by that in Tensorflow 2.0.\n",
      "  return tf.nn.rnn_cell.GRUCell(size_layer)\n",
      "C:\\Users\\mattr\\anaconda3\\envs\\mc\\lib\\site-packages\\keras\\layers\\legacy_rnn\\rnn_cell_impl.py:570: UserWarning: `layer.add_variable` is deprecated and will be removed in a future version. Please use `layer.add_weight` method instead.\n",
      "  self._gate_kernel = self.add_variable(\n",
      "C:\\Users\\mattr\\anaconda3\\envs\\mc\\lib\\site-packages\\keras\\layers\\legacy_rnn\\rnn_cell_impl.py:574: UserWarning: `layer.add_variable` is deprecated and will be removed in a future version. Please use `layer.add_weight` method instead.\n",
      "  self._gate_bias = self.add_variable(\n",
      "C:\\Users\\mattr\\anaconda3\\envs\\mc\\lib\\site-packages\\keras\\layers\\legacy_rnn\\rnn_cell_impl.py:580: UserWarning: `layer.add_variable` is deprecated and will be removed in a future version. Please use `layer.add_weight` method instead.\n",
      "  self._candidate_kernel = self.add_variable(\n",
      "C:\\Users\\mattr\\anaconda3\\envs\\mc\\lib\\site-packages\\keras\\layers\\legacy_rnn\\rnn_cell_impl.py:584: UserWarning: `layer.add_variable` is deprecated and will be removed in a future version. Please use `layer.add_weight` method instead.\n",
      "  self._candidate_bias = self.add_variable(\n",
      "C:\\Users\\mattr\\AppData\\Local\\Temp\\ipykernel_14236\\4156939800.py:29: UserWarning: `tf.layers.dense` is deprecated and will be removed in a future version. Please use `tf.keras.layers.Dense` instead.\n",
      "  self.logits = tf.layers.dense(self.outputs[-1], output_size)\n",
      "C:\\Users\\mattr\\anaconda3\\envs\\mc\\lib\\site-packages\\keras\\legacy_tf_layers\\core.py:261: UserWarning: `layer.apply` is deprecated and will be removed in a future version. Please use `layer.__call__` method instead.\n",
      "  return layer.apply(inputs)\n",
      "C:\\Users\\mattr\\anaconda3\\envs\\mc\\lib\\site-packages\\tensorflow\\python\\client\\session.py:1768: UserWarning: An interactive session is already active. This can cause out-of-memory errors in some cases. You must explicitly call `InteractiveSession.close()` to release resources held by the other session(s).\n",
      "  warnings.warn('An interactive session is already active. This can '\n",
      "train loop: 100%|████████████████████████████████████████████| 300/300 [05:24<00:00,  1.08s/it, acc=97.3, cost=0.00552]\n"
     ]
    }
   ],
   "source": [
    "results = []\n",
    "for i in range(simulation_size):\n",
    "    print('simulation %d'%(i + 1))\n",
    "    results.append(forecast())"
   ]
  },
  {
   "cell_type": "code",
   "execution_count": 10,
   "id": "ae95737b-53b6-4fe4-bda9-027c63af21cf",
   "metadata": {},
   "outputs": [
    {
     "name": "stdout",
     "output_type": "stream",
     "text": [
      "[[191.37845451063615, 133.76262675542722, 114.37301329991237, 126.39149396387973, 91.94938788915914, 102.02241478329994, 127.27991185346636, 138.1085028656979, 175.80554850180368, 177.41150701479353, 173.83445473597246, 123.93659096106867, 162.87984843410595, 160.93214321152763, 140.09977485508045, 138.4601814279707, 165.49388012488595, 139.6802853378278, 151.84601424265813, 164.91791353663686, 129.2293519494755, 132.8888008406116, 161.00431342393543, 162.6647523088307, 161.5248936802648, 152.62678871005855, 149.9188284647365, 149.48399915009074, 143.69485870522232, 157.16394177912372], [17.875696721370254, 2.13310792812275, -5.073116277708321, 26.361437579453963, 18.914891382700723, 16.014230361780296, 1.677138383618586, 21.33339748434433, 11.835075613751535, -5.46270379499603, -14.140035120115414, -11.138382034745348, 27.478859619718868, 12.969393618394156, 10.776377764467192, 29.224985893510627, 3.5483470976053697, -16.85208917579722, -8.122923384356552, 3.67552278655498, 15.923809108573836, 11.987823164839863, 20.414634831876146, 23.336488010204064, 27.429344010466387, 26.94903725567935, 3.34423525264092, 6.551507559129699, 39.55903050402889, 9.690297503407411], [61.17595912770925, 52.31927595838853, 56.02948354407288, 48.64993057527285, 52.571570462576396, 53.7895310638949, 53.09475789616336, 43.71036914319569, 51.79134187026983, 51.048057608427925, 54.21032115601021, 64.51114833797696, 52.58482091765923, 52.020434938484996, 49.428558141126494, 55.525626597486365, 54.77436027391492, 47.762215810308334, 47.90491656778988, 55.963355166078614, 57.483448923090165, 48.90159547931047, 39.706696449126426, 51.714573347278375, 48.57335195023895, 52.40147167270985, 53.682842028448306, 47.40117723618483, 51.45421666938879, 54.67301271190725], [38.37566409361136, 9.793845015575418, 1.5360642578607178, -1.58309810647114, 82.29311413043918, 28.839014433559537, 30.961158638531565, 4.3486123644943895, 37.811647236701226, 51.848034315852225, 66.0201369457877, 11.93117230521085, 16.105221567816944, -18.392090819086643, -32.45437646348841, 22.124657556106527, 27.307549691320386, -22.309526525382363, 26.522121216396382, 33.45049669158678, 42.45488240939744, -31.275035795911446, 30.41409073803628, 4.328715703833201, -37.17582652961355, -43.04083237706275, -3.5954757359543983, -15.34217013082391, 3.2005225542657696, 16.573899641096652], [8.260258826415539, 8.796652990476494, 6.580931879014901, 9.666019196249351, 6.887263508691166, 25.87137052952917, 10.853091367125067, 17.59574216948026, 10.146289240918025, 12.391946968027062, 12.12662906256218, 17.380073554102633, 16.82113918397191, 6.201136316920381, 22.524792701821962, 14.912667736161985, 20.25936787590656, 16.78300146124068, 31.266654867719545, 31.610633810338648, 21.55592808781702, 13.480944297486676, 31.249550956633133, 5.7218701698205, 5.454144922045877, 3.029101209592531, 10.510752759161436, 4.715112315094494, 5.65297217701136, 3.377203203056683], [-160.39644575406118, -157.3225707891166, -138.85776488179323, -144.6869160002332, -155.67202485268564, -135.499253106162, -174.18828167187544, -152.94990542275033, -148.44054315992508, -136.16181919045084, -137.27342600707425, -154.94812964299672, -171.83125290683193, -172.1475945004113, -146.76419698698953, -155.73077761420015, -183.1166212151905, -185.17627015747416, -196.8015394631075, -166.3201436127091, -169.17980546753034, -130.5763069479054, -168.79180405739262, -163.1626358501315, -167.21514322469946, -197.2125530573981, -200.1477006970386, -182.3100011141765, -176.6650230525788, -143.38500813442835], [160.4544792193648, 125.0095391103792, 184.6530998622358, 159.13510024807383, 200.1503078460431, 188.37146842895, 209.81373926000305, 133.43133925293748, 171.10346280694316, 146.4251423498648, 201.850963075605, 177.96503960277244, 194.86344466627443, 184.1619736734839, 118.82402489709204, 45.05215228031057, 170.00721931139552, 128.04248328844182, 188.9011010769177, 221.16058082118744, 219.92000790950308, 164.95078701339582, 192.26415609453312, 148.78639203017792, 168.55162784735955, 123.66027459139642, 145.93084099281467, 181.62461073113994, 214.10622232942876, 178.2330190528391], [71.75990056372152, 68.98714559691305, 72.99630160826992, 74.65559367606109, 78.11716189156522, 48.14738446343266, 66.986483174293, 97.14725421081471, 46.80220800574891, 66.24662578017414, 94.13648569451132, 84.79009522068085, 101.60863205845527, 65.6112233011342, 75.4157862475482, 77.8636838117557, 98.81134953826131, 71.68790514878143, 38.81429194694864, 69.22531928581613, 75.37502276375321, 48.40132453947466, 62.72846185482199, 70.6993939775767, 50.66343892913295, 63.56057778678881, 34.52262521204655, 42.10853140769928, 65.00872238907368, 75.24365407954089], [70.01444018425967, 74.78452966064084, 70.24160981531622, 66.25581629815997, 63.090645971945264, 5.1675088587943545, 57.514490638378184, 86.28685147213943, 80.09877062347391, 81.61484718058476, 87.02086459214064, 96.67757855878105, 24.681290804673846, 38.35226080978723, -1.2723360021816248, 59.51890650233371, -20.466701632930207, -30.134498784502945, 12.431331396943518, 54.54795016218287, -10.942731576383153, -13.209424390791693, 44.69687837334766, -8.154722324380996, 53.308593896873504, 55.3466044138568, 77.36667430221668, 97.61232213681023, 103.0539644937294, 72.2382147120461], [13.081923881040844, 4.798614702718995, 1.2801786478888648, 27.51163674926173, 11.865488559549256, 6.117899948218648, 14.115198383829593, 2.6846892710102064, 3.4183310691881994, 10.470981858108887, 3.8602189908437348, 6.909164057430085, 2.462662913496985, 27.321704318539773, 10.582856821678515, 5.389019604395276, -1.792883734842136, 17.77654381041233, 6.593356690084053, -4.166356401643374, -3.9337074494276445, -2.371515351153996, 0.48331465857750133, 13.745561877297625, -1.327241248793066, -4.748024824339894, 13.560991074888628, 16.986063875023692, 21.980227172945558, 13.54363341994236]]\n"
     ]
    },
    {
     "data": {
      "image/png": "[encoded data removed]",
      "text/plain": [
       "<Figure size 1080x360 with 1 Axes>"
      ]
     },
     "metadata": {},
     "output_type": "display_data"
    }
   ],
   "source": [
    "accuracies = [calculate_accuracy(tsla_df['Close'].iloc[-test_size:].values, r) for r in results]\n",
    "print(results)\n",
    "plt.figure(figsize = (15, 5))\n",
    "for no, r in enumerate(results):\n",
    "    plt.plot(r, label = 'forecast %d'%(no + 1))\n",
    "plt.plot(tsla_df['Close'].iloc[-test_size:].values, label = 'true trend', c = 'black')\n",
    "plt.legend()\n",
    " plt.show()"
   ]
  },
  {
   "cell_type": "code",
   "execution_count": null,
   "id": "263dcf63-c68c-4cb6-a2ef-7bf096d241ad",
   "metadata": {},
   "outputs": [],
   "source": []
  },
  {
   "cell_type": "code",
   "execution_count": null,
   "id": "4f986589-7f4d-4089-8cc0-dbe65f9df052",
   "metadata": {},
   "outputs": [],
   "source": []
  },
  {
   "cell_type": "code",
   "execution_count": null,
   "id": "f1bfac15-3370-4564-8066-5f9fadae95a8",
   "metadata": {},
   "outputs": [],
   "source": []
  },
  {
   "cell_type": "code",
   "execution_count": null,
   "id": "ccd71bc6-a962-4dd6-8b52-0217e3188db9",
   "metadata": {},
   "outputs": [],
   "source": []
  },
  {
   "cell_type": "code",
   "execution_count": null,
   "id": "e9989225-7dea-4469-80dd-3cfc66ac521d",
   "metadata": {},
   "outputs": [],
   "source": []
  }
 ],
 "metadata": {
  "kernelspec": {
   "display_name": "Python 3 (ipykernel)",
   "language": "python",
   "name": "python3"
  },
  "language_info": {
   "codemirror_mode": {
    "name": "ipython",
    "version": 3
   },
   "file_extension": ".py",
   "mimetype": "text/x-python",
   "name": "python",
   "nbconvert_exporter": "python",
   "pygments_lexer": "ipython3",
   "version": "3.10.2"
  }
 },
 "nbformat": 4,
 "nbformat_minor": 5
}
