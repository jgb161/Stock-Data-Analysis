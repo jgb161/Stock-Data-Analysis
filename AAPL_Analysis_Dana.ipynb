{
 "cells": [
  {
   "cell_type": "code",
   "execution_count": 1,
   "id": "3476a73a-a817-4842-8beb-cb40818d3f13",
   "metadata": {},
   "outputs": [
    {
     "name": "stdout",
     "output_type": "stream",
     "text": [
      "WARNING:tensorflow:From C:\\Users\\dana0\\anaconda3\\envs\\mlenv\\lib\\site-packages\\tensorflow\\python\\compat\\v2_compat.py:107: disable_resource_variables (from tensorflow.python.ops.variable_scope) is deprecated and will be removed in a future version.\n",
      "Instructions for updating:\n",
      "non-resource variables are not supported in the long term\n"
     ]
    }
   ],
   "source": [
    "import pandas as pd\n",
    "from pathlib import Path\n",
    "import numpy as np\n",
    "import matplotlib.pyplot as plt\n",
    "import seaborn as sns\n",
    "sns.set()\n",
    "import tensorflow.compat.v1 as tf\n",
    "tf.disable_v2_behavior()\n",
    "\n",
    "%matplotlib inline"
   ]
  },
  {
   "cell_type": "code",
   "execution_count": 2,
   "id": "ee4c91b2-4492-4454-a969-1a6c8c5e46bf",
   "metadata": {},
   "outputs": [],
   "source": [
    "# Set the random seed for reproducibility\n",
    "\n",
    "from numpy.random import seed\n",
    "\n",
    "seed(1)\n",
    "from tensorflow import random\n",
    "\n",
    "random.set_seed(2)"
   ]
  },
  {
   "cell_type": "code",
   "execution_count": 3,
   "id": "47d11b6f-a521-4c2b-95b9-7dc8a1f2b0f4",
   "metadata": {},
   "outputs": [
    {
     "data": {
      "text/html": [
       "<div>\n",
       "<style scoped>\n",
       "    .dataframe tbody tr th:only-of-type {\n",
       "        vertical-align: middle;\n",
       "    }\n",
       "\n",
       "    .dataframe tbody tr th {\n",
       "        vertical-align: top;\n",
       "    }\n",
       "\n",
       "    .dataframe thead th {\n",
       "        text-align: right;\n",
       "    }\n",
       "</style>\n",
       "<table border=\"1\" class=\"dataframe\">\n",
       "  <thead>\n",
       "    <tr style=\"text-align: right;\">\n",
       "      <th></th>\n",
       "      <th>Open</th>\n",
       "      <th>High</th>\n",
       "      <th>Low</th>\n",
       "      <th>Close</th>\n",
       "      <th>Volume</th>\n",
       "    </tr>\n",
       "    <tr>\n",
       "      <th>Date</th>\n",
       "      <th></th>\n",
       "      <th></th>\n",
       "      <th></th>\n",
       "      <th></th>\n",
       "      <th></th>\n",
       "    </tr>\n",
       "  </thead>\n",
       "  <tbody>\n",
       "    <tr>\n",
       "      <th>2016-04-11</th>\n",
       "      <td>27.2425</td>\n",
       "      <td>27.6525</td>\n",
       "      <td>27.2075</td>\n",
       "      <td>27.2550</td>\n",
       "      <td>117630072</td>\n",
       "    </tr>\n",
       "    <tr>\n",
       "      <th>2016-04-12</th>\n",
       "      <td>27.3350</td>\n",
       "      <td>27.6250</td>\n",
       "      <td>27.1650</td>\n",
       "      <td>27.6100</td>\n",
       "      <td>108929300</td>\n",
       "    </tr>\n",
       "    <tr>\n",
       "      <th>2016-04-13</th>\n",
       "      <td>27.7000</td>\n",
       "      <td>28.0850</td>\n",
       "      <td>27.7000</td>\n",
       "      <td>28.0100</td>\n",
       "      <td>133029264</td>\n",
       "    </tr>\n",
       "    <tr>\n",
       "      <th>2016-04-14</th>\n",
       "      <td>27.9050</td>\n",
       "      <td>28.0975</td>\n",
       "      <td>27.8325</td>\n",
       "      <td>28.0250</td>\n",
       "      <td>101895692</td>\n",
       "    </tr>\n",
       "    <tr>\n",
       "      <th>2016-04-15</th>\n",
       "      <td>28.0275</td>\n",
       "      <td>28.0750</td>\n",
       "      <td>27.4325</td>\n",
       "      <td>27.4625</td>\n",
       "      <td>187755876</td>\n",
       "    </tr>\n",
       "  </tbody>\n",
       "</table>\n",
       "</div>"
      ],
      "text/plain": [
       "               Open     High      Low    Close     Volume\n",
       "Date                                                     \n",
       "2016-04-11  27.2425  27.6525  27.2075  27.2550  117630072\n",
       "2016-04-12  27.3350  27.6250  27.1650  27.6100  108929300\n",
       "2016-04-13  27.7000  28.0850  27.7000  28.0100  133029264\n",
       "2016-04-14  27.9050  28.0975  27.8325  28.0250  101895692\n",
       "2016-04-15  28.0275  28.0750  27.4325  27.4625  187755876"
      ]
     },
     "execution_count": 3,
     "metadata": {},
     "output_type": "execute_result"
    }
   ],
   "source": [
    "file_path = Path(\"aapl.csv\")\n",
    "aapl_df = pd.read_csv(file_path, index_col=\"Date\", parse_dates=True, infer_datetime_format=True)\n",
    "aapl_df.dropna(inplace=True)\n",
    "aapl_df.sort_index(inplace=True)\n",
    "df = aapl_df.iloc[-1512:]\n",
    "df.head()"
   ]
  },
  {
   "cell_type": "code",
   "execution_count": 4,
   "id": "a0898d7f-3e23-4fca-9dd0-85f0ddb0aec9",
   "metadata": {},
   "outputs": [],
   "source": [
    "def window_data(aapl_df, window, feature_col_number, target_col_number):\n",
    "    \n",
    "    X = []\n",
    "    y = []\n",
    "    for i in range(len(df) - window):\n",
    "        features = df.iloc[i : (i + window), feature_col_number]\n",
    "        target = df.iloc[(i + window), target_col_number]\n",
    "        X.append(features)\n",
    "        y.append(target)\n",
    "    return np.array(X), np.array(y).reshape(-1, 1) "
   ]
  },
  {
   "cell_type": "code",
   "execution_count": 5,
   "id": "a023ee53-8572-4980-ab47-3e9087d0c0a3",
   "metadata": {},
   "outputs": [
    {
     "name": "stdout",
     "output_type": "stream",
     "text": [
      "X sample values:\n",
      "[[27.255  27.61   28.01   28.025  27.4625]\n",
      " [27.61   28.01   28.025  27.4625 26.87  ]\n",
      " [28.01   28.025  27.4625 26.87   26.7275]\n",
      " [28.025  27.4625 26.87   26.7275 26.7825]\n",
      " [27.4625 26.87   26.7275 26.7825 26.4925]] \n",
      "\n",
      "y sample values:\n",
      "[[26.87  ]\n",
      " [26.7275]\n",
      " [26.7825]\n",
      " [26.4925]\n",
      " [26.42  ]]\n"
     ]
    }
   ],
   "source": [
    "window_size = 5\n",
    "\n",
    "feature_column = 3\n",
    "target_column = 3\n",
    "X, y = window_data(df, window_size, feature_column, target_column)\n",
    "print (f\"X sample values:\\n{X[:5]} \\n\")\n",
    "print (f\"y sample values:\\n{y[:5]}\")"
   ]
  },
  {
   "cell_type": "code",
   "execution_count": 6,
   "id": "6a9fe88e-d9f7-42af-ab7b-c6af5b409910",
   "metadata": {},
   "outputs": [
    {
     "data": {
      "text/plain": [
       "((1512, 5), (1482, 5), (30, 5))"
      ]
     },
     "execution_count": 6,
     "metadata": {},
     "output_type": "execute_result"
    }
   ],
   "source": [
    "test_size = 30\n",
    "simulation_size = 10\n",
    "\n",
    "df_train = df.iloc[:-test_size]\n",
    "df_test = df.iloc[-test_size:]\n",
    "df.shape, df_train.shape, df_test.shape"
   ]
  },
  {
   "cell_type": "code",
   "execution_count": 7,
   "id": "99c175b2-b702-4884-a913-7108fb7a0497",
   "metadata": {},
   "outputs": [],
   "source": [
    "split = int(0.7 * len(X))\n",
    "X_train = X[: split]\n",
    "X_test = X[split:]\n",
    "y_train = y[: split]\n",
    "y_test = y[split:]"
   ]
  },
  {
   "cell_type": "code",
   "execution_count": 8,
   "id": "c6cd5102-0de0-41b4-b2a4-47a913a02c87",
   "metadata": {},
   "outputs": [],
   "source": [
    "# Use the MinMaxScaler to scale data between 0 and 1.\n",
    "from sklearn.preprocessing import MinMaxScaler\n",
    "\n",
    "# Create a MinMaxScaler object\n",
    "scaler = MinMaxScaler()\n",
    "\n",
    "# Fit the MinMaxScaler object with the training feature data X_train\n",
    "scaler.fit(X_train)\n",
    "\n",
    "# Scale the features training and testing sets\n",
    "X_train = scaler.transform(X_train)\n",
    "X_test = scaler.transform(X_test)\n",
    "\n",
    "# Fit the MinMaxScaler object with the training target data y_train\n",
    "scaler.fit(y_train)\n",
    "\n",
    "# Scale the target training and testing sets\n",
    "y_train = scaler.transform(y_train)\n",
    "y_test = scaler.transform(y_test)"
   ]
  },
  {
   "cell_type": "code",
   "execution_count": 9,
   "id": "d4acded4-e126-465f-a431-8752db85ae21",
   "metadata": {},
   "outputs": [
    {
     "name": "stdout",
     "output_type": "stream",
     "text": [
      "X_train sample values:\n",
      "[[[0.07116193]\n",
      "  [0.07657146]\n",
      "  [0.0826667 ]\n",
      "  [0.08289527]\n",
      "  [0.07265482]]\n",
      "\n",
      " [[0.07657146]\n",
      "  [0.0826667 ]\n",
      "  [0.08289527]\n",
      "  [0.07432384]\n",
      "  [0.06382899]]\n",
      "\n",
      " [[0.0826667 ]\n",
      "  [0.08289527]\n",
      "  [0.07432384]\n",
      "  [0.06529526]\n",
      "  [0.06170633]]\n",
      "\n",
      " [[0.08289527]\n",
      "  [0.07432384]\n",
      "  [0.06529526]\n",
      "  [0.06312383]\n",
      "  [0.0625256 ]]\n",
      "\n",
      " [[0.07432384]\n",
      "  [0.06529526]\n",
      "  [0.06312383]\n",
      "  [0.06396193]\n",
      "  [0.05820579]]] \n",
      "\n",
      "X_test sample values:\n",
      "[[[0.99523809]\n",
      "  [0.99577181]\n",
      "  [0.98811466]\n",
      "  [1.02297182]\n",
      "  [1.0285253 ]]\n",
      "\n",
      " [[0.99577181]\n",
      "  [0.98811466]\n",
      "  [1.02297182]\n",
      "  [1.0521524 ]\n",
      "  [1.00443153]]\n",
      "\n",
      " [[0.98811466]\n",
      "  [1.02297182]\n",
      "  [1.0521524 ]\n",
      "  [1.02750515]\n",
      "  [1.02223178]]\n",
      "\n",
      " [[1.02297182]\n",
      "  [1.0521524 ]\n",
      "  [1.02750515]\n",
      "  [1.0457143 ]\n",
      "  [0.98048635]]\n",
      "\n",
      " [[1.0521524 ]\n",
      "  [1.02750515]\n",
      "  [1.0457143 ]\n",
      "  [1.00300991]\n",
      "  [1.01083641]]]\n"
     ]
    }
   ],
   "source": [
    "# Reshape the features for the model\n",
    "X_train = X_train.reshape((X_train.shape[0], X_train.shape[1], 1))\n",
    "X_test = X_test.reshape((X_test.shape[0], X_test.shape[1], 1))\n",
    "print (f\"X_train sample values:\\n{X_train[:5]} \\n\")\n",
    "print (f\"X_test sample values:\\n{X_test[:5]}\")"
   ]
  },
  {
   "cell_type": "code",
   "execution_count": 10,
   "id": "9f895c5a-9bb0-413c-b4b8-418132aeb510",
   "metadata": {},
   "outputs": [],
   "source": [
    "# Import required Keras modules\n",
    "from tensorflow.keras.models import Sequential\n",
    "from tensorflow.keras.layers import LSTM, Dense, Dropout"
   ]
  },
  {
   "cell_type": "code",
   "execution_count": 11,
   "id": "0f1c3a25-0a5c-4669-a225-aaf1355c6503",
   "metadata": {},
   "outputs": [],
   "source": [
    "# Define the LSTM RNN model.\n",
    "model = Sequential()\n",
    "\n",
    "number_units = 30\n",
    "dropout_fraction = 0.2\n",
    "\n",
    "# Layer 1\n",
    "model.add(LSTM(\n",
    "    units=number_units,\n",
    "    return_sequences=True,\n",
    "    input_shape=(X_train.shape[1], 1))\n",
    "    )\n",
    "model.add(Dropout(dropout_fraction))\n",
    "# Layer 2\n",
    "model.add(LSTM(units=number_units, return_sequences=True))\n",
    "model.add(Dropout(dropout_fraction))\n",
    "# Layer 3\n",
    "model.add(LSTM(units=number_units))\n",
    "model.add(Dropout(dropout_fraction))\n",
    "# Output layer\n",
    "model.add(Dense(1))"
   ]
  },
  {
   "cell_type": "code",
   "execution_count": 12,
   "id": "897a0451-6c48-482e-99c7-edd4d676b532",
   "metadata": {},
   "outputs": [],
   "source": [
    "# Compile the model\n",
    "model.compile(optimizer=\"adam\", loss=\"mean_squared_error\")"
   ]
  },
  {
   "cell_type": "code",
   "execution_count": 13,
   "id": "8756226d-4b4a-4a9d-ba06-7806bdee53bd",
   "metadata": {},
   "outputs": [
    {
     "name": "stdout",
     "output_type": "stream",
     "text": [
      "Model: \"sequential\"\n",
      "_________________________________________________________________\n",
      " Layer (type)                Output Shape              Param #   \n",
      "=================================================================\n",
      " lstm (LSTM)                 (None, 5, 30)             3840      \n",
      "                                                                 \n",
      " dropout (Dropout)           (None, 5, 30)             0         \n",
      "                                                                 \n",
      " lstm_1 (LSTM)               (None, 5, 30)             7320      \n",
      "                                                                 \n",
      " dropout_1 (Dropout)         (None, 5, 30)             0         \n",
      "                                                                 \n",
      " lstm_2 (LSTM)               (None, 30)                7320      \n",
      "                                                                 \n",
      " dropout_2 (Dropout)         (None, 30)                0         \n",
      "                                                                 \n",
      " dense (Dense)               (None, 1)                 31        \n",
      "                                                                 \n",
      "=================================================================\n",
      "Total params: 18,511\n",
      "Trainable params: 18,511\n",
      "Non-trainable params: 0\n",
      "_________________________________________________________________\n"
     ]
    }
   ],
   "source": [
    "# Summarize the model\n",
    "model.summary()"
   ]
  },
  {
   "cell_type": "code",
   "execution_count": 21,
   "id": "221d7ddb-102b-4f24-bcf5-272f6a178c43",
   "metadata": {},
   "outputs": [
    {
     "name": "stdout",
     "output_type": "stream",
     "text": [
      "Train on 1054 samples\n",
      "Epoch 1/100\n",
      "1054/1054 [==============================] - 1s 597us/sample - loss: 0.0375\n",
      "Epoch 2/100\n",
      "1054/1054 [==============================] - 0s 269us/sample - loss: 0.0178\n",
      "Epoch 3/100\n",
      "1054/1054 [==============================] - 0s 276us/sample - loss: 0.0122\n",
      "Epoch 4/100\n",
      "1054/1054 [==============================] - 0s 282us/sample - loss: 0.0078\n",
      "Epoch 5/100\n",
      "1054/1054 [==============================] - 0s 284us/sample - loss: 0.0063\n",
      "Epoch 6/100\n",
      "1054/1054 [==============================] - 0s 276us/sample - loss: 0.0049\n",
      "Epoch 7/100\n",
      "1054/1054 [==============================] - 0s 270us/sample - loss: 0.0039\n",
      "Epoch 8/100\n",
      "1054/1054 [==============================] - 0s 280us/sample - loss: 0.0033\n",
      "Epoch 9/100\n",
      "1054/1054 [==============================] - 0s 282us/sample - loss: 0.0026\n",
      "Epoch 10/100\n",
      "1054/1054 [==============================] - 0s 286us/sample - loss: 0.0025\n",
      "Epoch 11/100\n",
      "1054/1054 [==============================] - 0s 279us/sample - loss: 0.0023\n",
      "Epoch 12/100\n",
      "1054/1054 [==============================] - 0s 275us/sample - loss: 0.0019\n",
      "Epoch 13/100\n",
      "1054/1054 [==============================] - 0s 280us/sample - loss: 0.0020\n",
      "Epoch 14/100\n",
      "1054/1054 [==============================] - 0s 276us/sample - loss: 0.0017\n",
      "Epoch 15/100\n",
      "1054/1054 [==============================] - 0s 277us/sample - loss: 0.0018\n",
      "Epoch 16/100\n",
      "1054/1054 [==============================] - 0s 278us/sample - loss: 0.0019\n",
      "Epoch 17/100\n",
      "1054/1054 [==============================] - 0s 278us/sample - loss: 0.0019\n",
      "Epoch 18/100\n",
      "1054/1054 [==============================] - 0s 269us/sample - loss: 0.0019\n",
      "Epoch 19/100\n",
      "1054/1054 [==============================] - 0s 263us/sample - loss: 0.0018\n",
      "Epoch 20/100\n",
      "1054/1054 [==============================] - 0s 254us/sample - loss: 0.0018\n",
      "Epoch 21/100\n",
      "1054/1054 [==============================] - 0s 263us/sample - loss: 0.0018\n",
      "Epoch 22/100\n",
      "1054/1054 [==============================] - 0s 255us/sample - loss: 0.0018\n",
      "Epoch 23/100\n",
      "1054/1054 [==============================] - 0s 277us/sample - loss: 0.0019\n",
      "Epoch 24/100\n",
      "1054/1054 [==============================] - 0s 266us/sample - loss: 0.0015\n",
      "Epoch 25/100\n",
      "1054/1054 [==============================] - 0s 296us/sample - loss: 0.0016\n",
      "Epoch 26/100\n",
      "1054/1054 [==============================] - 0s 258us/sample - loss: 0.0016\n",
      "Epoch 27/100\n",
      "1054/1054 [==============================] - 0s 241us/sample - loss: 0.0016\n",
      "Epoch 28/100\n",
      "1054/1054 [==============================] - 0s 244us/sample - loss: 0.0015\n",
      "Epoch 29/100\n",
      "1054/1054 [==============================] - 0s 239us/sample - loss: 0.0016\n",
      "Epoch 30/100\n",
      "1054/1054 [==============================] - 0s 241us/sample - loss: 0.0015\n",
      "Epoch 31/100\n",
      "1054/1054 [==============================] - 0s 266us/sample - loss: 0.0015\n",
      "Epoch 32/100\n",
      "1054/1054 [==============================] - 0s 231us/sample - loss: 0.0015\n",
      "Epoch 33/100\n",
      "1054/1054 [==============================] - 0s 246us/sample - loss: 0.0016\n",
      "Epoch 34/100\n",
      "1054/1054 [==============================] - 0s 251us/sample - loss: 0.0016\n",
      "Epoch 35/100\n",
      "1054/1054 [==============================] - 0s 241us/sample - loss: 0.0016\n",
      "Epoch 36/100\n",
      "1054/1054 [==============================] - 0s 254us/sample - loss: 0.0015\n",
      "Epoch 37/100\n",
      "1054/1054 [==============================] - 0s 251us/sample - loss: 0.0016\n",
      "Epoch 38/100\n",
      "1054/1054 [==============================] - 0s 251us/sample - loss: 0.0014\n",
      "Epoch 39/100\n",
      "1054/1054 [==============================] - 0s 249us/sample - loss: 0.0013\n",
      "Epoch 40/100\n",
      "1054/1054 [==============================] - 0s 284us/sample - loss: 0.0014\n",
      "Epoch 41/100\n",
      "1054/1054 [==============================] - 0s 239us/sample - loss: 0.0014\n",
      "Epoch 42/100\n",
      "1054/1054 [==============================] - 0s 226us/sample - loss: 0.0016\n",
      "Epoch 43/100\n",
      "1054/1054 [==============================] - 0s 223us/sample - loss: 0.0014\n",
      "Epoch 44/100\n",
      "1054/1054 [==============================] - 0s 224us/sample - loss: 0.0013\n",
      "Epoch 45/100\n",
      "1054/1054 [==============================] - 0s 207us/sample - loss: 0.0015\n",
      "Epoch 46/100\n",
      "1054/1054 [==============================] - 0s 253us/sample - loss: 0.0014\n",
      "Epoch 47/100\n",
      "1054/1054 [==============================] - 0s 255us/sample - loss: 0.0014\n",
      "Epoch 48/100\n",
      "1054/1054 [==============================] - 0s 258us/sample - loss: 0.0014\n",
      "Epoch 49/100\n",
      "1054/1054 [==============================] - 0s 252us/sample - loss: 0.0013\n",
      "Epoch 50/100\n",
      "1054/1054 [==============================] - 0s 245us/sample - loss: 0.0014\n",
      "Epoch 51/100\n",
      "1054/1054 [==============================] - 0s 277us/sample - loss: 0.0013\n",
      "Epoch 52/100\n",
      "1054/1054 [==============================] - 0s 258us/sample - loss: 0.0013\n",
      "Epoch 53/100\n",
      "1054/1054 [==============================] - 0s 266us/sample - loss: 0.0013\n",
      "Epoch 54/100\n",
      "1054/1054 [==============================] - 0s 273us/sample - loss: 0.0014\n",
      "Epoch 55/100\n",
      "1054/1054 [==============================] - 0s 268us/sample - loss: 0.0013\n",
      "Epoch 56/100\n",
      "1054/1054 [==============================] - 0s 275us/sample - loss: 0.0013\n",
      "Epoch 57/100\n",
      "1054/1054 [==============================] - 0s 280us/sample - loss: 0.0014\n",
      "Epoch 58/100\n",
      "1054/1054 [==============================] - 0s 271us/sample - loss: 0.0013\n",
      "Epoch 59/100\n",
      "1054/1054 [==============================] - 0s 257us/sample - loss: 0.0013\n",
      "Epoch 60/100\n",
      "1054/1054 [==============================] - 0s 283us/sample - loss: 0.0013\n",
      "Epoch 61/100\n",
      "1054/1054 [==============================] - 0s 279us/sample - loss: 0.0015\n",
      "Epoch 62/100\n",
      "1054/1054 [==============================] - 0s 260us/sample - loss: 0.0013\n",
      "Epoch 63/100\n",
      "1054/1054 [==============================] - 0s 248us/sample - loss: 0.0012\n",
      "Epoch 64/100\n",
      "1054/1054 [==============================] - 0s 259us/sample - loss: 0.0014\n",
      "Epoch 65/100\n",
      "1054/1054 [==============================] - 0s 273us/sample - loss: 0.0013\n",
      "Epoch 66/100\n",
      "1054/1054 [==============================] - 0s 268us/sample - loss: 0.0013\n",
      "Epoch 67/100\n",
      "1054/1054 [==============================] - 0s 263us/sample - loss: 0.0012\n",
      "Epoch 68/100\n",
      "1054/1054 [==============================] - 0s 263us/sample - loss: 0.0012\n",
      "Epoch 69/100\n",
      "1054/1054 [==============================] - 0s 272us/sample - loss: 0.0012\n",
      "Epoch 70/100\n",
      "1054/1054 [==============================] - 0s 267us/sample - loss: 0.0013\n",
      "Epoch 71/100\n",
      "1054/1054 [==============================] - 0s 270us/sample - loss: 0.0012\n",
      "Epoch 72/100\n",
      "1054/1054 [==============================] - 0s 262us/sample - loss: 0.0014\n",
      "Epoch 73/100\n",
      "1054/1054 [==============================] - 0s 264us/sample - loss: 0.0013\n",
      "Epoch 74/100\n",
      "1054/1054 [==============================] - 0s 262us/sample - loss: 0.0013\n",
      "Epoch 75/100\n",
      "1054/1054 [==============================] - 0s 254us/sample - loss: 0.0012\n",
      "Epoch 76/100\n",
      "1054/1054 [==============================] - 0s 261us/sample - loss: 0.0013\n",
      "Epoch 77/100\n",
      "1054/1054 [==============================] - 0s 256us/sample - loss: 0.0014\n",
      "Epoch 78/100\n",
      "1054/1054 [==============================] - 0s 263us/sample - loss: 0.0012\n",
      "Epoch 79/100\n",
      "1054/1054 [==============================] - 0s 264us/sample - loss: 0.0013\n",
      "Epoch 80/100\n",
      "1054/1054 [==============================] - 0s 259us/sample - loss: 0.0013\n",
      "Epoch 81/100\n",
      "1054/1054 [==============================] - 0s 261us/sample - loss: 0.0013\n",
      "Epoch 82/100\n",
      "1054/1054 [==============================] - 0s 260us/sample - loss: 0.0013\n",
      "Epoch 83/100\n",
      "1054/1054 [==============================] - 0s 253us/sample - loss: 0.0014\n",
      "Epoch 84/100\n",
      "1054/1054 [==============================] - 0s 265us/sample - loss: 0.0013\n",
      "Epoch 85/100\n",
      "1054/1054 [==============================] - 0s 260us/sample - loss: 0.0012\n",
      "Epoch 86/100\n",
      "1054/1054 [==============================] - 0s 245us/sample - loss: 0.0013\n",
      "Epoch 87/100\n",
      "1054/1054 [==============================] - 0s 268us/sample - loss: 0.0013\n",
      "Epoch 88/100\n",
      "1054/1054 [==============================] - 0s 293us/sample - loss: 0.0013\n",
      "Epoch 89/100\n",
      "1054/1054 [==============================] - 0s 253us/sample - loss: 0.0013\n",
      "Epoch 90/100\n",
      "1054/1054 [==============================] - 0s 266us/sample - loss: 0.0013\n",
      "Epoch 91/100\n",
      "1054/1054 [==============================] - 0s 249us/sample - loss: 0.0012\n",
      "Epoch 92/100\n",
      "1054/1054 [==============================] - 0s 257us/sample - loss: 0.0014\n",
      "Epoch 93/100\n",
      "1054/1054 [==============================] - 0s 273us/sample - loss: 0.0012\n",
      "Epoch 94/100\n",
      "1054/1054 [==============================] - 0s 221us/sample - loss: 0.0013\n",
      "Epoch 95/100\n",
      "1054/1054 [==============================] - 0s 238us/sample - loss: 0.0012\n",
      "Epoch 96/100\n",
      "1054/1054 [==============================] - 0s 230us/sample - loss: 0.0013\n",
      "Epoch 97/100\n",
      "1054/1054 [==============================] - 0s 271us/sample - loss: 0.0013\n",
      "Epoch 98/100\n",
      "1054/1054 [==============================] - 0s 242us/sample - loss: 0.0013\n",
      "Epoch 99/100\n",
      "1054/1054 [==============================] - 0s 253us/sample - loss: 0.0013\n",
      "Epoch 100/100\n",
      "1054/1054 [==============================] - 0s 255us/sample - loss: 0.0012\n"
     ]
    },
    {
     "data": {
      "text/plain": [
       "<keras.callbacks.History at 0x22de27c6e48>"
      ]
     },
     "execution_count": 21,
     "metadata": {},
     "output_type": "execute_result"
    }
   ],
   "source": [
    "# Train the model\n",
    "model.fit(X_train, y_train, epochs=100, shuffle=False, batch_size=90, verbose=1)"
   ]
  },
  {
   "cell_type": "code",
   "execution_count": 22,
   "id": "01e4873b-eb5c-4036-8aa4-e8c2f81c4f6a",
   "metadata": {},
   "outputs": [
    {
     "data": {
      "text/plain": [
       "0.2718605970178482"
      ]
     },
     "execution_count": 22,
     "metadata": {},
     "output_type": "execute_result"
    }
   ],
   "source": [
    "# Evaluate the model\n",
    "model.evaluate(X_test, y_test)"
   ]
  },
  {
   "cell_type": "code",
   "execution_count": 23,
   "id": "29b4754c-b9ba-4ec5-88a5-abe9c8c59d33",
   "metadata": {},
   "outputs": [],
   "source": [
    "# Make some predictions\n",
    "predicted = model.predict(X_test)"
   ]
  },
  {
   "cell_type": "code",
   "execution_count": 24,
   "id": "1275beb3-6d62-49ea-bdb5-ebe70dfa5a93",
   "metadata": {},
   "outputs": [],
   "source": [
    "# Recover the original prices instead of the scaled version\n",
    "predicted_prices = scaler.inverse_transform(predicted)\n",
    "real_prices = scaler.inverse_transform(y_test.reshape(-1, 1))"
   ]
  },
  {
   "cell_type": "code",
   "execution_count": 25,
   "id": "15d2d297-d277-4e36-b895-196cf0a6a994",
   "metadata": {},
   "outputs": [
    {
     "data": {
      "text/html": [
       "<div>\n",
       "<style scoped>\n",
       "    .dataframe tbody tr th:only-of-type {\n",
       "        vertical-align: middle;\n",
       "    }\n",
       "\n",
       "    .dataframe tbody tr th {\n",
       "        vertical-align: top;\n",
       "    }\n",
       "\n",
       "    .dataframe thead th {\n",
       "        text-align: right;\n",
       "    }\n",
       "</style>\n",
       "<table border=\"1\" class=\"dataframe\">\n",
       "  <thead>\n",
       "    <tr style=\"text-align: right;\">\n",
       "      <th></th>\n",
       "      <th>Real</th>\n",
       "      <th>Predicted</th>\n",
       "    </tr>\n",
       "    <tr>\n",
       "      <th>Date</th>\n",
       "      <th></th>\n",
       "      <th></th>\n",
       "    </tr>\n",
       "  </thead>\n",
       "  <tbody>\n",
       "    <tr>\n",
       "      <th>2020-06-24</th>\n",
       "      <td>90.015000</td>\n",
       "      <td>85.108238</td>\n",
       "    </tr>\n",
       "    <tr>\n",
       "      <th>2020-06-25</th>\n",
       "      <td>91.209975</td>\n",
       "      <td>85.522545</td>\n",
       "    </tr>\n",
       "    <tr>\n",
       "      <th>2020-06-26</th>\n",
       "      <td>88.407500</td>\n",
       "      <td>86.014931</td>\n",
       "    </tr>\n",
       "    <tr>\n",
       "      <th>2020-06-29</th>\n",
       "      <td>90.444975</td>\n",
       "      <td>86.486435</td>\n",
       "    </tr>\n",
       "    <tr>\n",
       "      <th>2020-06-30</th>\n",
       "      <td>91.200000</td>\n",
       "      <td>86.524704</td>\n",
       "    </tr>\n",
       "  </tbody>\n",
       "</table>\n",
       "</div>"
      ],
      "text/plain": [
       "                 Real  Predicted\n",
       "Date                            \n",
       "2020-06-24  90.015000  85.108238\n",
       "2020-06-25  91.209975  85.522545\n",
       "2020-06-26  88.407500  86.014931\n",
       "2020-06-29  90.444975  86.486435\n",
       "2020-06-30  91.200000  86.524704"
      ]
     },
     "execution_count": 25,
     "metadata": {},
     "output_type": "execute_result"
    }
   ],
   "source": [
    "aapl_stock = pd.DataFrame({\n",
    "    \"Real\": real_prices.ravel(),\n",
    "    \"Predicted\": predicted_prices.ravel()\n",
    "    }, index = df.index[-len(real_prices): ])\n",
    "aapl_stock.head()"
   ]
  },
  {
   "cell_type": "code",
   "execution_count": 26,
   "id": "3ff79fd1-a9d9-48aa-8232-c82637dc1bdf",
   "metadata": {},
   "outputs": [
    {
     "data": {
      "text/plain": [
       "<AxesSubplot:xlabel='Date'>"
      ]
     },
     "execution_count": 26,
     "metadata": {},
     "output_type": "execute_result"
    },
    {
     "data": {
      "image/png": "[encoded data removed]",
      "text/plain": [
       "<Figure size 432x288 with 1 Axes>"
      ]
     },
     "metadata": {
      "needs_background": "light"
     },
     "output_type": "display_data"
    }
   ],
   "source": [
    "aapl_stock.plot()"
   ]
  },
  {
   "cell_type": "code",
   "execution_count": 27,
   "id": "1e5048ff-b27b-4fac-b966-8e4ecbcfb52c",
   "metadata": {},
   "outputs": [
    {
     "data": {
      "text/html": [
       "<div>\n",
       "<style scoped>\n",
       "    .dataframe tbody tr th:only-of-type {\n",
       "        vertical-align: middle;\n",
       "    }\n",
       "\n",
       "    .dataframe tbody tr th {\n",
       "        vertical-align: top;\n",
       "    }\n",
       "\n",
       "    .dataframe thead th {\n",
       "        text-align: right;\n",
       "    }\n",
       "</style>\n",
       "<table border=\"1\" class=\"dataframe\">\n",
       "  <thead>\n",
       "    <tr style=\"text-align: right;\">\n",
       "      <th></th>\n",
       "      <th>Real</th>\n",
       "      <th>Predicted</th>\n",
       "    </tr>\n",
       "    <tr>\n",
       "      <th>Date</th>\n",
       "      <th></th>\n",
       "      <th></th>\n",
       "    </tr>\n",
       "  </thead>\n",
       "  <tbody>\n",
       "    <tr>\n",
       "      <th>2022-04-04</th>\n",
       "      <td>178.4400</td>\n",
       "      <td>112.860107</td>\n",
       "    </tr>\n",
       "    <tr>\n",
       "      <th>2022-04-05</th>\n",
       "      <td>175.0600</td>\n",
       "      <td>112.919601</td>\n",
       "    </tr>\n",
       "    <tr>\n",
       "      <th>2022-04-06</th>\n",
       "      <td>171.8300</td>\n",
       "      <td>112.812233</td>\n",
       "    </tr>\n",
       "    <tr>\n",
       "      <th>2022-04-07</th>\n",
       "      <td>172.1399</td>\n",
       "      <td>112.707611</td>\n",
       "    </tr>\n",
       "    <tr>\n",
       "      <th>2022-04-08</th>\n",
       "      <td>170.0900</td>\n",
       "      <td>112.727943</td>\n",
       "    </tr>\n",
       "  </tbody>\n",
       "</table>\n",
       "</div>"
      ],
      "text/plain": [
       "                Real   Predicted\n",
       "Date                            \n",
       "2022-04-04  178.4400  112.860107\n",
       "2022-04-05  175.0600  112.919601\n",
       "2022-04-06  171.8300  112.812233\n",
       "2022-04-07  172.1399  112.707611\n",
       "2022-04-08  170.0900  112.727943"
      ]
     },
     "execution_count": 27,
     "metadata": {},
     "output_type": "execute_result"
    }
   ],
   "source": [
    "aapl_stock.tail()"
   ]
  },
  {
   "cell_type": "code",
   "execution_count": null,
   "id": "f7e1ab23-ff46-4ef5-843c-970d967c2f4a",
   "metadata": {},
   "outputs": [],
   "source": []
  },
  {
   "cell_type": "code",
   "execution_count": null,
   "id": "1726659a-421d-4e75-9ce0-86f62e76a1b3",
   "metadata": {},
   "outputs": [],
   "source": []
  }
 ],
 "metadata": {
  "kernelspec": {
   "display_name": "Python 3 (ipykernel)",
   "language": "python",
   "name": "python3"
  },
  "language_info": {
   "codemirror_mode": {
    "name": "ipython",
    "version": 3
   },
   "file_extension": ".py",
   "mimetype": "text/x-python",
   "name": "python",
   "nbconvert_exporter": "python",
   "pygments_lexer": "ipython3",
   "version": "3.7.11"
  }
 },
 "nbformat": 4,
 "nbformat_minor": 5
}
