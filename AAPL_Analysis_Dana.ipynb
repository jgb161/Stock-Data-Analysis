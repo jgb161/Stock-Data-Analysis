{
 "cells": [
  {
   "cell_type": "code",
   "execution_count": 1,
   "id": "3476a73a-a817-4842-8beb-cb40818d3f13",
   "metadata": {},
   "outputs": [
    {
     "name": "stdout",
     "output_type": "stream",
     "text": [
      "WARNING:tensorflow:From C:\\Users\\dana0\\anaconda3\\envs\\mlenv\\lib\\site-packages\\tensorflow\\python\\compat\\v2_compat.py:107: disable_resource_variables (from tensorflow.python.ops.variable_scope) is deprecated and will be removed in a future version.\n",
      "Instructions for updating:\n",
      "non-resource variables are not supported in the long term\n"
     ]
    }
   ],
   "source": [
    "import pandas as pd\n",
    "from pathlib import Path\n",
    "import numpy as np\n",
    "import matplotlib.pyplot as plt\n",
    "import seaborn as sns\n",
    "sns.set()\n",
    "import tensorflow.compat.v1 as tf\n",
    "tf.disable_v2_behavior()\n",
    "\n",
    "%matplotlib inline"
   ]
  },
  {
   "cell_type": "code",
   "execution_count": 2,
   "id": "ee4c91b2-4492-4454-a969-1a6c8c5e46bf",
   "metadata": {},
   "outputs": [],
   "source": [
    "# Set the random seed for reproducibility\n",
    "\n",
    "from numpy.random import seed\n",
    "\n",
    "seed(1)\n",
    "from tensorflow import random\n",
    "\n",
    "random.set_seed(2)"
   ]
  },
  {
   "cell_type": "code",
   "execution_count": 3,
   "id": "47d11b6f-a521-4c2b-95b9-7dc8a1f2b0f4",
   "metadata": {},
   "outputs": [
    {
     "data": {
      "text/html": [
       "<div>\n",
       "<style scoped>\n",
       "    .dataframe tbody tr th:only-of-type {\n",
       "        vertical-align: middle;\n",
       "    }\n",
       "\n",
       "    .dataframe tbody tr th {\n",
       "        vertical-align: top;\n",
       "    }\n",
       "\n",
       "    .dataframe thead th {\n",
       "        text-align: right;\n",
       "    }\n",
       "</style>\n",
       "<table border=\"1\" class=\"dataframe\">\n",
       "  <thead>\n",
       "    <tr style=\"text-align: right;\">\n",
       "      <th></th>\n",
       "      <th>Open</th>\n",
       "      <th>High</th>\n",
       "      <th>Low</th>\n",
       "      <th>Close</th>\n",
       "      <th>Volume</th>\n",
       "    </tr>\n",
       "    <tr>\n",
       "      <th>Date</th>\n",
       "      <th></th>\n",
       "      <th></th>\n",
       "      <th></th>\n",
       "      <th></th>\n",
       "      <th></th>\n",
       "    </tr>\n",
       "  </thead>\n",
       "  <tbody>\n",
       "    <tr>\n",
       "      <th>2002-06-03</th>\n",
       "      <td>0.417678</td>\n",
       "      <td>0.418750</td>\n",
       "      <td>0.403214</td>\n",
       "      <td>0.409107</td>\n",
       "      <td>235110400</td>\n",
       "    </tr>\n",
       "    <tr>\n",
       "      <th>2002-06-04</th>\n",
       "      <td>0.408571</td>\n",
       "      <td>0.411428</td>\n",
       "      <td>0.396071</td>\n",
       "      <td>0.406785</td>\n",
       "      <td>347900000</td>\n",
       "    </tr>\n",
       "    <tr>\n",
       "      <th>2002-06-05</th>\n",
       "      <td>0.407678</td>\n",
       "      <td>0.408750</td>\n",
       "      <td>0.399107</td>\n",
       "      <td>0.405714</td>\n",
       "      <td>277082400</td>\n",
       "    </tr>\n",
       "    <tr>\n",
       "      <th>2002-06-06</th>\n",
       "      <td>0.410000</td>\n",
       "      <td>0.414821</td>\n",
       "      <td>0.393571</td>\n",
       "      <td>0.395714</td>\n",
       "      <td>260064000</td>\n",
       "    </tr>\n",
       "    <tr>\n",
       "      <th>2002-06-07</th>\n",
       "      <td>0.388571</td>\n",
       "      <td>0.391785</td>\n",
       "      <td>0.373750</td>\n",
       "      <td>0.382142</td>\n",
       "      <td>612376800</td>\n",
       "    </tr>\n",
       "    <tr>\n",
       "      <th>2002-06-10</th>\n",
       "      <td>0.383571</td>\n",
       "      <td>0.390000</td>\n",
       "      <td>0.381071</td>\n",
       "      <td>0.383571</td>\n",
       "      <td>277575200</td>\n",
       "    </tr>\n",
       "    <tr>\n",
       "      <th>2002-06-11</th>\n",
       "      <td>0.386428</td>\n",
       "      <td>0.387500</td>\n",
       "      <td>0.364464</td>\n",
       "      <td>0.365357</td>\n",
       "      <td>349507200</td>\n",
       "    </tr>\n",
       "    <tr>\n",
       "      <th>2002-06-12</th>\n",
       "      <td>0.364464</td>\n",
       "      <td>0.370571</td>\n",
       "      <td>0.356071</td>\n",
       "      <td>0.358750</td>\n",
       "      <td>528718400</td>\n",
       "    </tr>\n",
       "    <tr>\n",
       "      <th>2002-06-13</th>\n",
       "      <td>0.357500</td>\n",
       "      <td>0.358035</td>\n",
       "      <td>0.346071</td>\n",
       "      <td>0.348928</td>\n",
       "      <td>353136000</td>\n",
       "    </tr>\n",
       "    <tr>\n",
       "      <th>2002-06-14</th>\n",
       "      <td>0.343571</td>\n",
       "      <td>0.363571</td>\n",
       "      <td>0.323392</td>\n",
       "      <td>0.358928</td>\n",
       "      <td>424900000</td>\n",
       "    </tr>\n",
       "    <tr>\n",
       "      <th>2002-06-17</th>\n",
       "      <td>0.361428</td>\n",
       "      <td>0.368392</td>\n",
       "      <td>0.354464</td>\n",
       "      <td>0.366785</td>\n",
       "      <td>325236800</td>\n",
       "    </tr>\n",
       "    <tr>\n",
       "      <th>2002-06-18</th>\n",
       "      <td>0.364642</td>\n",
       "      <td>0.367678</td>\n",
       "      <td>0.356785</td>\n",
       "      <td>0.359821</td>\n",
       "      <td>365304800</td>\n",
       "    </tr>\n",
       "    <tr>\n",
       "      <th>2002-06-19</th>\n",
       "      <td>0.310178</td>\n",
       "      <td>0.314285</td>\n",
       "      <td>0.301428</td>\n",
       "      <td>0.305714</td>\n",
       "      <td>1712435200</td>\n",
       "    </tr>\n",
       "    <tr>\n",
       "      <th>2002-06-20</th>\n",
       "      <td>0.306607</td>\n",
       "      <td>0.314285</td>\n",
       "      <td>0.300892</td>\n",
       "      <td>0.305535</td>\n",
       "      <td>396732000</td>\n",
       "    </tr>\n",
       "    <tr>\n",
       "      <th>2002-06-21</th>\n",
       "      <td>0.303035</td>\n",
       "      <td>0.312321</td>\n",
       "      <td>0.299821</td>\n",
       "      <td>0.300892</td>\n",
       "      <td>445194400</td>\n",
       "    </tr>\n",
       "    <tr>\n",
       "      <th>2002-06-24</th>\n",
       "      <td>0.299464</td>\n",
       "      <td>0.316607</td>\n",
       "      <td>0.298214</td>\n",
       "      <td>0.308392</td>\n",
       "      <td>432090400</td>\n",
       "    </tr>\n",
       "    <tr>\n",
       "      <th>2002-06-25</th>\n",
       "      <td>0.310714</td>\n",
       "      <td>0.315714</td>\n",
       "      <td>0.301071</td>\n",
       "      <td>0.306071</td>\n",
       "      <td>301218400</td>\n",
       "    </tr>\n",
       "    <tr>\n",
       "      <th>2002-06-26</th>\n",
       "      <td>0.300000</td>\n",
       "      <td>0.308750</td>\n",
       "      <td>0.285357</td>\n",
       "      <td>0.295535</td>\n",
       "      <td>559372800</td>\n",
       "    </tr>\n",
       "    <tr>\n",
       "      <th>2002-06-27</th>\n",
       "      <td>0.299821</td>\n",
       "      <td>0.308392</td>\n",
       "      <td>0.293214</td>\n",
       "      <td>0.304642</td>\n",
       "      <td>251664000</td>\n",
       "    </tr>\n",
       "    <tr>\n",
       "      <th>2002-06-28</th>\n",
       "      <td>0.305357</td>\n",
       "      <td>0.318214</td>\n",
       "      <td>0.303571</td>\n",
       "      <td>0.316428</td>\n",
       "      <td>271107200</td>\n",
       "    </tr>\n",
       "    <tr>\n",
       "      <th>2002-07-01</th>\n",
       "      <td>0.316250</td>\n",
       "      <td>0.319285</td>\n",
       "      <td>0.304464</td>\n",
       "      <td>0.304642</td>\n",
       "      <td>229706400</td>\n",
       "    </tr>\n",
       "    <tr>\n",
       "      <th>2002-07-02</th>\n",
       "      <td>0.304107</td>\n",
       "      <td>0.306464</td>\n",
       "      <td>0.300535</td>\n",
       "      <td>0.302500</td>\n",
       "      <td>305194400</td>\n",
       "    </tr>\n",
       "    <tr>\n",
       "      <th>2002-07-03</th>\n",
       "      <td>0.300178</td>\n",
       "      <td>0.315714</td>\n",
       "      <td>0.299107</td>\n",
       "      <td>0.313392</td>\n",
       "      <td>199029600</td>\n",
       "    </tr>\n",
       "    <tr>\n",
       "      <th>2002-07-05</th>\n",
       "      <td>0.316250</td>\n",
       "      <td>0.334821</td>\n",
       "      <td>0.316250</td>\n",
       "      <td>0.334642</td>\n",
       "      <td>161593600</td>\n",
       "    </tr>\n",
       "    <tr>\n",
       "      <th>2002-07-08</th>\n",
       "      <td>0.330714</td>\n",
       "      <td>0.332321</td>\n",
       "      <td>0.315714</td>\n",
       "      <td>0.321607</td>\n",
       "      <td>211204000</td>\n",
       "    </tr>\n",
       "    <tr>\n",
       "      <th>2002-07-09</th>\n",
       "      <td>0.323035</td>\n",
       "      <td>0.326607</td>\n",
       "      <td>0.311785</td>\n",
       "      <td>0.313035</td>\n",
       "      <td>226749600</td>\n",
       "    </tr>\n",
       "    <tr>\n",
       "      <th>2002-07-10</th>\n",
       "      <td>0.316250</td>\n",
       "      <td>0.324464</td>\n",
       "      <td>0.308035</td>\n",
       "      <td>0.309285</td>\n",
       "      <td>206903200</td>\n",
       "    </tr>\n",
       "    <tr>\n",
       "      <th>2002-07-11</th>\n",
       "      <td>0.308214</td>\n",
       "      <td>0.327678</td>\n",
       "      <td>0.303035</td>\n",
       "      <td>0.326785</td>\n",
       "      <td>373503200</td>\n",
       "    </tr>\n",
       "    <tr>\n",
       "      <th>2002-07-12</th>\n",
       "      <td>0.331250</td>\n",
       "      <td>0.335535</td>\n",
       "      <td>0.308214</td>\n",
       "      <td>0.312500</td>\n",
       "      <td>443581600</td>\n",
       "    </tr>\n",
       "    <tr>\n",
       "      <th>2002-07-15</th>\n",
       "      <td>0.311250</td>\n",
       "      <td>0.332142</td>\n",
       "      <td>0.300178</td>\n",
       "      <td>0.325535</td>\n",
       "      <td>295999200</td>\n",
       "    </tr>\n",
       "  </tbody>\n",
       "</table>\n",
       "</div>"
      ],
      "text/plain": [
       "                Open      High       Low     Close      Volume\n",
       "Date                                                          \n",
       "2002-06-03  0.417678  0.418750  0.403214  0.409107   235110400\n",
       "2002-06-04  0.408571  0.411428  0.396071  0.406785   347900000\n",
       "2002-06-05  0.407678  0.408750  0.399107  0.405714   277082400\n",
       "2002-06-06  0.410000  0.414821  0.393571  0.395714   260064000\n",
       "2002-06-07  0.388571  0.391785  0.373750  0.382142   612376800\n",
       "2002-06-10  0.383571  0.390000  0.381071  0.383571   277575200\n",
       "2002-06-11  0.386428  0.387500  0.364464  0.365357   349507200\n",
       "2002-06-12  0.364464  0.370571  0.356071  0.358750   528718400\n",
       "2002-06-13  0.357500  0.358035  0.346071  0.348928   353136000\n",
       "2002-06-14  0.343571  0.363571  0.323392  0.358928   424900000\n",
       "2002-06-17  0.361428  0.368392  0.354464  0.366785   325236800\n",
       "2002-06-18  0.364642  0.367678  0.356785  0.359821   365304800\n",
       "2002-06-19  0.310178  0.314285  0.301428  0.305714  1712435200\n",
       "2002-06-20  0.306607  0.314285  0.300892  0.305535   396732000\n",
       "2002-06-21  0.303035  0.312321  0.299821  0.300892   445194400\n",
       "2002-06-24  0.299464  0.316607  0.298214  0.308392   432090400\n",
       "2002-06-25  0.310714  0.315714  0.301071  0.306071   301218400\n",
       "2002-06-26  0.300000  0.308750  0.285357  0.295535   559372800\n",
       "2002-06-27  0.299821  0.308392  0.293214  0.304642   251664000\n",
       "2002-06-28  0.305357  0.318214  0.303571  0.316428   271107200\n",
       "2002-07-01  0.316250  0.319285  0.304464  0.304642   229706400\n",
       "2002-07-02  0.304107  0.306464  0.300535  0.302500   305194400\n",
       "2002-07-03  0.300178  0.315714  0.299107  0.313392   199029600\n",
       "2002-07-05  0.316250  0.334821  0.316250  0.334642   161593600\n",
       "2002-07-08  0.330714  0.332321  0.315714  0.321607   211204000\n",
       "2002-07-09  0.323035  0.326607  0.311785  0.313035   226749600\n",
       "2002-07-10  0.316250  0.324464  0.308035  0.309285   206903200\n",
       "2002-07-11  0.308214  0.327678  0.303035  0.326785   373503200\n",
       "2002-07-12  0.331250  0.335535  0.308214  0.312500   443581600\n",
       "2002-07-15  0.311250  0.332142  0.300178  0.325535   295999200"
      ]
     },
     "execution_count": 3,
     "metadata": {},
     "output_type": "execute_result"
    }
   ],
   "source": [
    "file_path = Path(\"aapl.csv\")\n",
    "aapl_df = pd.read_csv(file_path, index_col=\"Date\", parse_dates=True, infer_datetime_format=True)\n",
    "aapl_df.dropna(inplace=True)\n",
    "aapl_df.sort_index(inplace=True)\n",
    "aapl_df.head(30)"
   ]
  },
  {
   "cell_type": "code",
   "execution_count": 4,
   "id": "a0898d7f-3e23-4fca-9dd0-85f0ddb0aec9",
   "metadata": {},
   "outputs": [],
   "source": [
    "def window_data(aapl_df, window, feature_col_number, target_col_number):\n",
    "    \n",
    "    X = []\n",
    "    y = []\n",
    "    for i in range(len(aapl_df) - window):\n",
    "        features = aapl_df.iloc[i : (i + window), feature_col_number]\n",
    "        target = aapl_df.iloc[(i + window), target_col_number]\n",
    "        X.append(features)\n",
    "        y.append(target)\n",
    "    return np.array(X), np.array(y).reshape(-1, 1) "
   ]
  },
  {
   "cell_type": "code",
   "execution_count": 5,
   "id": "a023ee53-8572-4980-ab47-3e9087d0c0a3",
   "metadata": {},
   "outputs": [
    {
     "name": "stdout",
     "output_type": "stream",
     "text": [
      "X sample values:\n",
      "[[0.409107 0.406785 0.405714 0.395714 0.382142]\n",
      " [0.406785 0.405714 0.395714 0.382142 0.383571]\n",
      " [0.405714 0.395714 0.382142 0.383571 0.365357]\n",
      " [0.395714 0.382142 0.383571 0.365357 0.35875 ]\n",
      " [0.382142 0.383571 0.365357 0.35875  0.348928]] \n",
      "\n",
      "y sample values:\n",
      "[[0.383571]\n",
      " [0.365357]\n",
      " [0.35875 ]\n",
      " [0.348928]\n",
      " [0.358928]]\n"
     ]
    }
   ],
   "source": [
    "window_size = 5\n",
    "\n",
    "feature_column = 3\n",
    "target_column = 3\n",
    "X, y = window_data(aapl_df, window_size, feature_column, target_column)\n",
    "print (f\"X sample values:\\n{X[:5]} \\n\")\n",
    "print (f\"y sample values:\\n{y[:5]}\")"
   ]
  },
  {
   "cell_type": "code",
   "execution_count": 6,
   "id": "6a9fe88e-d9f7-42af-ab7b-c6af5b409910",
   "metadata": {},
   "outputs": [
    {
     "data": {
      "text/plain": [
       "((5000, 5), (4970, 5), (30, 5))"
      ]
     },
     "execution_count": 6,
     "metadata": {},
     "output_type": "execute_result"
    }
   ],
   "source": [
    "test_size = 30\n",
    "simulation_size = 10\n",
    "\n",
    "df_train = aapl_df.iloc[:-test_size]\n",
    "df_test = aapl_df.iloc[-test_size:]\n",
    "aapl_df.shape, df_train.shape, df_test.shape"
   ]
  },
  {
   "cell_type": "code",
   "execution_count": 21,
   "id": "99c175b2-b702-4884-a913-7108fb7a0497",
   "metadata": {},
   "outputs": [],
   "source": [
    "split = int(0.9 * len(X))\n",
    "X_train = X[: split]\n",
    "X_test = X[split:]\n",
    "y_train = y[: split]\n",
    "y_test = y[split:]"
   ]
  },
  {
   "cell_type": "code",
   "execution_count": 22,
   "id": "c6cd5102-0de0-41b4-b2a4-47a913a02c87",
   "metadata": {},
   "outputs": [],
   "source": [
    "# Use the MinMaxScaler to scale data between 0 and 1.\n",
    "from sklearn.preprocessing import MinMaxScaler\n",
    "\n",
    "# Create a MinMaxScaler object\n",
    "scaler = MinMaxScaler()\n",
    "\n",
    "# Fit the MinMaxScaler object with the training feature data X_train\n",
    "scaler.fit(X_train)\n",
    "\n",
    "# Scale the features training and testing sets\n",
    "X_train = scaler.transform(X_train)\n",
    "X_test = scaler.transform(X_test)\n",
    "\n",
    "# Fit the MinMaxScaler object with the training target data y_train\n",
    "scaler.fit(y_train)\n",
    "\n",
    "# Scale the target training and testing sets\n",
    "y_train = scaler.transform(y_train)\n",
    "y_test = scaler.transform(y_test)"
   ]
  },
  {
   "cell_type": "code",
   "execution_count": 23,
   "id": "d4acded4-e126-465f-a431-8752db85ae21",
   "metadata": {},
   "outputs": [
    {
     "name": "stdout",
     "output_type": "stream",
     "text": [
      "X_train sample values:\n",
      "[[[0.00214333]\n",
      "  [0.00211486]\n",
      "  [0.00210173]\n",
      "  [0.00197913]\n",
      "  [0.00181273]]\n",
      "\n",
      " [[0.00211486]\n",
      "  [0.00210173]\n",
      "  [0.00197913]\n",
      "  [0.00181273]\n",
      "  [0.00183025]]\n",
      "\n",
      " [[0.00210173]\n",
      "  [0.00197913]\n",
      "  [0.00181273]\n",
      "  [0.00183025]\n",
      "  [0.00160695]]\n",
      "\n",
      " [[0.00197913]\n",
      "  [0.00181273]\n",
      "  [0.00183025]\n",
      "  [0.00160695]\n",
      "  [0.00152595]]\n",
      "\n",
      " [[0.00181273]\n",
      "  [0.00183025]\n",
      "  [0.00160695]\n",
      "  [0.00152595]\n",
      "  [0.00140553]]] \n",
      "\n",
      "X_test sample values:\n",
      "[[[0.81852056]\n",
      "  [0.83464253]\n",
      "  [0.87693972]\n",
      "  [0.86890938]\n",
      "  [0.87583631]]\n",
      "\n",
      " [[0.83464253]\n",
      "  [0.87693972]\n",
      "  [0.86890938]\n",
      "  [0.87583631]\n",
      "  [0.86391341]]\n",
      "\n",
      " [[0.87693972]\n",
      "  [0.86890938]\n",
      "  [0.87583631]\n",
      "  [0.86391341]\n",
      "  [0.84592178]]\n",
      "\n",
      " [[0.86890938]\n",
      "  [0.87583631]\n",
      "  [0.86391341]\n",
      "  [0.84592178]\n",
      "  [0.81968527]]\n",
      "\n",
      " [[0.87583631]\n",
      "  [0.86391341]\n",
      "  [0.84592178]\n",
      "  [0.81968527]\n",
      "  [0.84337782]]]\n"
     ]
    }
   ],
   "source": [
    "# Reshape the features for the model\n",
    "X_train = X_train.reshape((X_train.shape[0], X_train.shape[1], 1))\n",
    "X_test = X_test.reshape((X_test.shape[0], X_test.shape[1], 1))\n",
    "print (f\"X_train sample values:\\n{X_train[:5]} \\n\")\n",
    "print (f\"X_test sample values:\\n{X_test[:5]}\")"
   ]
  },
  {
   "cell_type": "code",
   "execution_count": 24,
   "id": "9f895c5a-9bb0-413c-b4b8-418132aeb510",
   "metadata": {},
   "outputs": [],
   "source": [
    "# Import required Keras modules\n",
    "from tensorflow.keras.models import Sequential\n",
    "from tensorflow.keras.layers import LSTM, Dense, Dropout"
   ]
  },
  {
   "cell_type": "code",
   "execution_count": 34,
   "id": "0f1c3a25-0a5c-4669-a225-aaf1355c6503",
   "metadata": {},
   "outputs": [],
   "source": [
    "# Define the LSTM RNN model.\n",
    "model = Sequential()\n",
    "\n",
    "number_units = 30\n",
    "dropout_fraction = 0.2\n",
    "\n",
    "# Layer 1\n",
    "model.add(LSTM(\n",
    "    units=number_units,\n",
    "    return_sequences=True,\n",
    "    input_shape=(X_train.shape[1], 1))\n",
    "    )\n",
    "model.add(Dropout(dropout_fraction))\n",
    "# Layer 2\n",
    "model.add(LSTM(units=number_units, return_sequences=True))\n",
    "model.add(Dropout(dropout_fraction))\n",
    "# Layer 3\n",
    "model.add(LSTM(units=number_units))\n",
    "model.add(Dropout(dropout_fraction))\n",
    "# Output layer\n",
    "model.add(Dense(1))"
   ]
  },
  {
   "cell_type": "code",
   "execution_count": 35,
   "id": "897a0451-6c48-482e-99c7-edd4d676b532",
   "metadata": {},
   "outputs": [],
   "source": [
    "# Compile the model\n",
    "model.compile(optimizer=\"adam\", loss=\"mean_squared_error\")"
   ]
  },
  {
   "cell_type": "code",
   "execution_count": 36,
   "id": "8756226d-4b4a-4a9d-ba06-7806bdee53bd",
   "metadata": {},
   "outputs": [
    {
     "name": "stdout",
     "output_type": "stream",
     "text": [
      "Model: \"sequential_2\"\n",
      "_________________________________________________________________\n",
      " Layer (type)                Output Shape              Param #   \n",
      "=================================================================\n",
      " lstm_6 (LSTM)               (None, 5, 30)             3840      \n",
      "                                                                 \n",
      " dropout_6 (Dropout)         (None, 5, 30)             0         \n",
      "                                                                 \n",
      " lstm_7 (LSTM)               (None, 5, 30)             7320      \n",
      "                                                                 \n",
      " dropout_7 (Dropout)         (None, 5, 30)             0         \n",
      "                                                                 \n",
      " lstm_8 (LSTM)               (None, 30)                7320      \n",
      "                                                                 \n",
      " dropout_8 (Dropout)         (None, 30)                0         \n",
      "                                                                 \n",
      " dense_2 (Dense)             (None, 1)                 31        \n",
      "                                                                 \n",
      "=================================================================\n",
      "Total params: 18,511\n",
      "Trainable params: 18,511\n",
      "Non-trainable params: 0\n",
      "_________________________________________________________________\n"
     ]
    }
   ],
   "source": [
    "# Summarize the model\n",
    "model.summary()"
   ]
  },
  {
   "cell_type": "code",
   "execution_count": 37,
   "id": "221d7ddb-102b-4f24-bcf5-272f6a178c43",
   "metadata": {},
   "outputs": [
    {
     "name": "stdout",
     "output_type": "stream",
     "text": [
      "Train on 4495 samples\n",
      "Epoch 1/10\n",
      "4495/4495 [==============================] - 205s 38ms/sample - loss: 2.4144e-04\n",
      "Epoch 2/10\n",
      "4495/4495 [==============================] - 60s 13ms/sample - loss: 0.0027\n",
      "Epoch 3/10\n",
      "4495/4495 [==============================] - 58s 13ms/sample - loss: 0.0023\n",
      "Epoch 4/10\n",
      "4495/4495 [==============================] - 57s 13ms/sample - loss: 0.0015\n",
      "Epoch 5/10\n",
      "4495/4495 [==============================] - 60s 13ms/sample - loss: 0.0015\n",
      "Epoch 6/10\n",
      "4495/4495 [==============================] - 61s 13ms/sample - loss: 0.0016\n",
      "Epoch 7/10\n",
      "4495/4495 [==============================] - 60s 13ms/sample - loss: 0.0015\n",
      "Epoch 8/10\n",
      "4495/4495 [==============================] - 60s 13ms/sample - loss: 0.0015\n",
      "Epoch 9/10\n",
      "4495/4495 [==============================] - 57s 13ms/sample - loss: 0.0017\n",
      "Epoch 10/10\n",
      "4495/4495 [==============================] - 58s 13ms/sample - loss: 0.0017\n"
     ]
    },
    {
     "data": {
      "text/plain": [
       "<keras.callbacks.History at 0x1b7ae5c2b88>"
      ]
     },
     "execution_count": 37,
     "metadata": {},
     "output_type": "execute_result"
    }
   ],
   "source": [
    "# Train the model\n",
    "model.fit(X_train, y_train, epochs=10, shuffle=False, batch_size=1, verbose=1)"
   ]
  },
  {
   "cell_type": "code",
   "execution_count": 38,
   "id": "01e4873b-eb5c-4036-8aa4-e8c2f81c4f6a",
   "metadata": {},
   "outputs": [
    {
     "name": "stderr",
     "output_type": "stream",
     "text": [
      "C:\\Users\\dana0\\anaconda3\\envs\\mlenv\\lib\\site-packages\\keras\\engine\\training_v1.py:2057: UserWarning: `Model.state_updates` will be removed in a future version. This property should not be used in TensorFlow 2.0, as `updates` are applied automatically.\n",
      "  updates = self.state_updates\n"
     ]
    },
    {
     "data": {
      "text/plain": [
       "0.8448702747821808"
      ]
     },
     "execution_count": 38,
     "metadata": {},
     "output_type": "execute_result"
    }
   ],
   "source": [
    "# Evaluate the model\n",
    "model.evaluate(X_test, y_test)"
   ]
  },
  {
   "cell_type": "code",
   "execution_count": 39,
   "id": "29b4754c-b9ba-4ec5-88a5-abe9c8c59d33",
   "metadata": {},
   "outputs": [
    {
     "name": "stderr",
     "output_type": "stream",
     "text": [
      "C:\\Users\\dana0\\anaconda3\\envs\\mlenv\\lib\\site-packages\\keras\\engine\\training_v1.py:2079: UserWarning: `Model.state_updates` will be removed in a future version. This property should not be used in TensorFlow 2.0, as `updates` are applied automatically.\n",
      "  updates=self.state_updates,\n"
     ]
    }
   ],
   "source": [
    "# Make some predictions\n",
    "predicted = model.predict(X_test)"
   ]
  },
  {
   "cell_type": "code",
   "execution_count": 40,
   "id": "1275beb3-6d62-49ea-bdb5-ebe70dfa5a93",
   "metadata": {},
   "outputs": [],
   "source": [
    "# Recover the original prices instead of the scaled version\n",
    "predicted_prices = scaler.inverse_transform(predicted)\n",
    "real_prices = scaler.inverse_transform(y_test.reshape(-1, 1))"
   ]
  },
  {
   "cell_type": "code",
   "execution_count": 41,
   "id": "15d2d297-d277-4e36-b895-196cf0a6a994",
   "metadata": {},
   "outputs": [
    {
     "data": {
      "text/html": [
       "<div>\n",
       "<style scoped>\n",
       "    .dataframe tbody tr th:only-of-type {\n",
       "        vertical-align: middle;\n",
       "    }\n",
       "\n",
       "    .dataframe tbody tr th {\n",
       "        vertical-align: top;\n",
       "    }\n",
       "\n",
       "    .dataframe thead th {\n",
       "        text-align: right;\n",
       "    }\n",
       "</style>\n",
       "<table border=\"1\" class=\"dataframe\">\n",
       "  <thead>\n",
       "    <tr style=\"text-align: right;\">\n",
       "      <th></th>\n",
       "      <th>Real</th>\n",
       "      <th>Predicted</th>\n",
       "    </tr>\n",
       "    <tr>\n",
       "      <th>Date</th>\n",
       "      <th></th>\n",
       "      <th></th>\n",
       "    </tr>\n",
       "  </thead>\n",
       "  <tbody>\n",
       "    <tr>\n",
       "      <th>2020-04-17</th>\n",
       "      <td>70.700000</td>\n",
       "      <td>62.052979</td>\n",
       "    </tr>\n",
       "    <tr>\n",
       "      <th>2020-04-20</th>\n",
       "      <td>69.232500</td>\n",
       "      <td>62.063396</td>\n",
       "    </tr>\n",
       "    <tr>\n",
       "      <th>2020-04-21</th>\n",
       "      <td>67.092500</td>\n",
       "      <td>62.074146</td>\n",
       "    </tr>\n",
       "    <tr>\n",
       "      <th>2020-04-22</th>\n",
       "      <td>69.025000</td>\n",
       "      <td>62.074551</td>\n",
       "    </tr>\n",
       "    <tr>\n",
       "      <th>2020-04-23</th>\n",
       "      <td>68.757475</td>\n",
       "      <td>62.071995</td>\n",
       "    </tr>\n",
       "  </tbody>\n",
       "</table>\n",
       "</div>"
      ],
      "text/plain": [
       "                 Real  Predicted\n",
       "Date                            \n",
       "2020-04-17  70.700000  62.052979\n",
       "2020-04-20  69.232500  62.063396\n",
       "2020-04-21  67.092500  62.074146\n",
       "2020-04-22  69.025000  62.074551\n",
       "2020-04-23  68.757475  62.071995"
      ]
     },
     "execution_count": 41,
     "metadata": {},
     "output_type": "execute_result"
    }
   ],
   "source": [
    "aapl_stock = pd.DataFrame({\n",
    "    \"Real\": real_prices.ravel(),\n",
    "    \"Predicted\": predicted_prices.ravel()\n",
    "    }, index = aapl_df.index[-len(real_prices): ])\n",
    "aapl_stock.head()"
   ]
  },
  {
   "cell_type": "code",
   "execution_count": 42,
   "id": "3ff79fd1-a9d9-48aa-8232-c82637dc1bdf",
   "metadata": {},
   "outputs": [
    {
     "data": {
      "text/plain": [
       "<AxesSubplot:xlabel='Date'>"
      ]
     },
     "execution_count": 42,
     "metadata": {},
     "output_type": "execute_result"
    },
    {
     "data": {
      "image/png": "[encoded data removed]",
      "text/plain": [
       "<Figure size 432x288 with 1 Axes>"
      ]
     },
     "metadata": {
      "needs_background": "light"
     },
     "output_type": "display_data"
    }
   ],
   "source": [
    "aapl_stock.plot()"
   ]
  },
  {
   "cell_type": "code",
   "execution_count": null,
   "id": "1e5048ff-b27b-4fac-b966-8e4ecbcfb52c",
   "metadata": {},
   "outputs": [],
   "source": []
  }
 ],
 "metadata": {
  "kernelspec": {
   "display_name": "Python 3 (ipykernel)",
   "language": "python",
   "name": "python3"
  },
  "language_info": {
   "codemirror_mode": {
    "name": "ipython",
    "version": 3
   },
   "file_extension": ".py",
   "mimetype": "text/x-python",
   "name": "python",
   "nbconvert_exporter": "python",
   "pygments_lexer": "ipython3",
   "version": "3.7.11"
  }
 },
 "nbformat": 4,
 "nbformat_minor": 5
}
