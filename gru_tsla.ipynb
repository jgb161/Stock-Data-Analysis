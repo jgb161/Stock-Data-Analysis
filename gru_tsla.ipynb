{
 "cells": [
  {
   "cell_type": "code",
   "execution_count": 60,
   "id": "46141f4e-136e-410f-8ccd-eb54162de4f7",
   "metadata": {},
   "outputs": [],
   "source": [
    "# Import required libraries\n",
    "import tensorflow as tf\n",
    "import numpy as np\n",
    "import matplotlib.pyplot as plt\n",
    "import seaborn as sns\n",
    "import pandas as pd\n",
    "from sklearn.preprocessing import MinMaxScaler\n",
    "from datetime import datetime\n",
    "from datetime import timedelta\n",
    "from tqdm import tqdm\n",
    "sns.set()\n",
    "tf.compat.v1.random.set_random_seed(1234)"
   ]
  },
  {
   "cell_type": "code",
   "execution_count": 63,
   "id": "a3586c20-60ca-4e0f-bad5-b9f662697970",
   "metadata": {},
   "outputs": [],
   "source": [
    "#import OHLC data\n",
    "path = Path('./tsla.csv')\n",
    "tsla_df = pd.read_csv(path, index_col='Date', infer_datetime_format=True, parse_dates=True)\n",
    "\n",
    "# drop empty column\n",
    "tsla_df.drop(columns=['Down'], inplace=True)\n",
    "# drop null values\n",
    "tsla_df.dropna(inplace=True)\n",
    "# calc actual returns\n",
    "tsla_df['actual returns'] = tsla_df['Close'].pct_change()\n",
    "\n",
    "# drop nulls\n",
    "tsla_df.dropna(inplace=True)\n",
    "\n",
    "# display dataframe\n",
    "tsla_df.drop(columns=['RSI(14)', 'actual returns'], inplace=True)\n"
   ]
  },
  {
   "cell_type": "code",
   "execution_count": null,
   "id": "f8a32938-436d-408c-a690-5851ee1f3b16",
   "metadata": {},
   "outputs": [],
   "source": [
    "# # seperate trade criteria to new dataframe\n",
    "# trading_df = tsla_df[['Date', 'RSI(14)']]\n",
    "\n",
    "# create signal\n",
    "tsla_df['trading signal'] = 0.0\n",
    "tsla_df\n",
    "\n",
    "\n",
    "# buy signal\n",
    "tsla_df.loc[(tsla_df[\"actual returns\"] > 0), \"signal\"] = 1\n",
    "\n",
    "\n",
    "# sell signal\n",
    "tsla_df.loc[(tsla_df[\"actual returns\"] < 0), \"signal\"] = -1\n",
    "\n",
    "\n",
    "# create X df\n",
    "X = tsla_df[['RSI(14)']].shift().dropna().copy()\n",
    "\n",
    "# create y df\n",
    "y = tsla_df['signal'].copy()\n",
    "\n",
    "y"
   ]
  },
  {
   "cell_type": "code",
   "execution_count": null,
   "id": "341f9c9e-6a37-419f-85b1-7f7856f4e9b2",
   "metadata": {},
   "outputs": [],
   "source": [
    "# Import required libraries\n",
    "from pandas.tseries.offsets import DateOffset"
   ]
  },
  {
   "cell_type": "code",
   "execution_count": null,
   "id": "625417c8-18ae-4de1-8c0a-01f246edabca",
   "metadata": {},
   "outputs": [],
   "source": [
    "# start of training\n",
    "\n",
    "training_start = X.index.min()\n",
    "\n",
    "print(training_start)"
   ]
  },
  {
   "cell_type": "code",
   "execution_count": null,
   "id": "1a93fdf9-0a64-4d79-8048-db53e0f3b7a0",
   "metadata": {},
   "outputs": [],
   "source": [
    "# Select the ending period for the training data with an offset of 12 months\n",
    "training_end = X.index.min() + DateOffset(months=12)\n",
    "\n",
    "print(training_end)"
   ]
  },
  {
   "cell_type": "code",
   "execution_count": null,
   "id": "7a1838c3-1867-4efa-be5b-60cbba528739",
   "metadata": {},
   "outputs": [],
   "source": [
    "# create training sets\n",
    "\n",
    "X_train = X.loc[training_start:training_end]\n",
    "y_train = y.loc[training_start:training_end]\n",
    "\n",
    "\n",
    "# create test sets\n",
    "X_test = X.loc[training_end:]\n",
    "y_test = y.loc[training_end:]"
   ]
  },
  {
   "cell_type": "code",
   "execution_count": null,
   "id": "0022072a-95fc-41b3-b099-ef57e7d97728",
   "metadata": {},
   "outputs": [],
   "source": [
    "# create model\n",
    "class Model:\n",
    "    def __init__(\n",
    "        self,\n",
    "        learning_rate,\n",
    "        num_layers,\n",
    "        size,\n",
    "        size_layer,\n",
    "        output_size,\n",
    "        forget_bias = 0.1,\n",
    "    ):\n",
    "        def lstm_cell(size_layer):\n",
    "            return tf.nn.rnn_cell.GRUCell(size_layer)\n",
    "\n",
    "        rnn_cells = tf.nn.rnn_cell.MultiRNNCell(\n",
    "            [lstm_cell(size_layer) for _ in range(num_layers)],\n",
    "            state_is_tuple = False,\n",
    "        )\n",
    "        self.X = tf.placeholder(tf.float32, (None, None, size))\n",
    "        self.Y = tf.placeholder(tf.float32, (None, output_size))\n",
    "        drop = tf.contrib.rnn.DropoutWrapper(\n",
    "            rnn_cells, output_keep_prob = forget_bias\n",
    "        )\n",
    "        self.hidden_layer = tf.placeholder(\n",
    "            tf.float32, (None, num_layers * size_layer)\n",
    "        )\n",
    "        self.outputs, self.last_state = tf.nn.dynamic_rnn(\n",
    "            drop, self.X, initial_state = self.hidden_layer, dtype = tf.float32\n",
    "        )\n",
    "        self.logits = tf.layers.dense(self.outputs[-1], output_size)\n",
    "        self.cost = tf.reduce_mean(tf.square(self.Y - self.logits))\n",
    "        self.optimizer = tf.train.AdamOptimizer(learning_rate).minimize(\n",
    "            self.cost\n",
    "        )\n",
    "        \n",
    "def calculate_accuracy(real, predict):\n",
    "    real = np.array(real) + 1\n",
    "    predict = np.array(predict) + 1\n",
    "    percentage = 1 - np.sqrt(np.mean(np.square((real - predict) / real)))\n",
    "    return percentage * 100\n",
    "\n",
    "def anchor(signal, weight):\n",
    "    buffer = []\n",
    "    last = signal[0]\n",
    "    for i in signal:\n",
    "        smoothed_val = last * weight + (1 - weight) * i\n",
    "        buffer.append(smoothed_val)\n",
    "        last = smoothed_val\n",
    "    return buffer\n"
   ]
  },
  {
   "cell_type": "code",
   "execution_count": 57,
   "id": "d3447175-39e3-43b6-9dad-7e2ce73af15b",
   "metadata": {},
   "outputs": [],
   "source": []
  },
  {
   "cell_type": "code",
   "execution_count": null,
   "id": "70a99f42-25ab-4244-b40c-fa1a32ff70cf",
   "metadata": {},
   "outputs": [],
   "source": []
  }
 ],
 "metadata": {
  "kernelspec": {
   "display_name": "Python 3 (ipykernel)",
   "language": "python",
   "name": "python3"
  },
  "language_info": {
   "codemirror_mode": {
    "name": "ipython",
    "version": 3
   },
   "file_extension": ".py",
   "mimetype": "text/x-python",
   "name": "python",
   "nbconvert_exporter": "python",
   "pygments_lexer": "ipython3",
   "version": "3.10.2"
  }
 },
 "nbformat": 4,
 "nbformat_minor": 5
}
